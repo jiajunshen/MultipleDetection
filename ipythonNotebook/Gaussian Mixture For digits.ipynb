{
 "metadata": {
  "name": "",
  "signature": "sha256:dbeca02ee57d7cfc1eca415b763d2be7d9c9f332a0d92d320704c84a7f99232e"
 },
 "nbformat": 3,
 "nbformat_minor": 0,
 "worksheets": [
  {
   "cells": [
    {
     "cell_type": "code",
     "collapsed": false,
     "input": [
      "import os\n",
      "import numpy as np\n",
      "import sys\n",
      "import time\n",
      "import theano\n",
      "import theano.tensor as T\n",
      "import lasagne\n",
      "from lasagne.layers.dnn import Conv2DDNNLayer as Conv2DLayer\n",
      "from lasagne.layers.dnn import MaxPool2DDNNLayer as MaxPool2DLayer\n",
      "os.chdir(\"../src/\")\n",
      "from dataPreparation import load_data\n",
      "\n",
      "def iterate_minibatches(inputs, targets, batchsize, classNum = 10, shuffle=False):\n",
      "    targets = np.array(targets, dtype = np.int32)\n",
      "    assert len(inputs) == len(targets)\n",
      "    if shuffle:\n",
      "        indices = np.arange(len(inputs))\n",
      "        np.random.shuffle(indices)\n",
      "    for start_idx in range(0, len(inputs) - batchsize + 1, batchsize):\n",
      "        if shuffle:\n",
      "            excerpt = indices[start_idx:start_idx + batchsize]\n",
      "        else:\n",
      "            excerpt = slice(start_idx, start_idx + batchsize)\n",
      "        binary_targets = np.zeros((batchsize, classNum))\n",
      "        binary_targets[np.arange(batchsize),targets[excerpt]] = 1\n",
      "        yield inputs[excerpt], np.array(binary_targets,dtype = np.float32)"
     ],
     "language": "python",
     "metadata": {},
     "outputs": [
      {
       "output_type": "stream",
       "stream": "stderr",
       "text": [
        "Using gpu device 0: GeForce GT 650M (CNMeM is disabled)\n"
       ]
      }
     ],
     "prompt_number": 1
    },
    {
     "cell_type": "code",
     "collapsed": false,
     "input": [
      "\n",
      "# Load the dataset\n",
      "print(\"Loading data...\")\n",
      "\n",
      "X_train, y_train, X_test, y_test = load_data(\"/X_train.npy\", \"/Y_train.npy\", \"/X_test.npy\", \"/Y_test.npy\")\n",
      "\n",
      "input_var = T.ftensor4('inputs')\n",
      "target_var = T.fmatrix('targets')\n",
      "\n",
      "network = lasagne.layers.InputLayer(shape=(None, 1, 28, 28),\n",
      "                                    input_var=input_var, name = 'input_layer')\n",
      "\n",
      "network_reshape = lasagne.layers.ReshapeLayer(network, shape=([0], 784), name = 'reshape_layer')\n",
      "\n",
      "labelInput = lasagne.layers.InputLayer(shape=(None, 10),\n",
      "                                    input_var=target_var)\n",
      "network = lasagne.layers.ConcatLayer(\n",
      "        [network_reshape, labelInput], axis = 1)\n",
      "network = lasagne.layers.MultiGaussianMixture(network, num_components = 5, n_classes = 10 , name = 'output_layer')\n",
      "\n",
      "loss = lasagne.layers.get_output(network)\n",
      "loss.name = 'loss'\n",
      "loss_mean = loss.mean()\n",
      "loss_mean.name = 'loss_mean'\n",
      "\n",
      "params = lasagne.layers.get_all_params(network, trainable=True)\n",
      "print(params)\n",
      "#updates = lasagne.updates.nesterov_momentum(\n",
      "#        loss_mean, params, learning_rate=0.001, momentum=0.9)\n",
      "gparams = T.grad(loss_mean, params)\n",
      "\n",
      "\n",
      "updates = [\n",
      "    (param, param - 0.1 * gparam)\n",
      "    for param, gparam in zip(params, gparams)\n",
      " ]\n",
      "\n",
      "train_fn = theano.function([input_var, target_var], loss_mean, updates=updates)\n",
      "X_train_zero = np.array(X_train[y_train == 0], dtype = np.float32)\n",
      "y_train_zero = np.array(y_train[y_train == 0], dtype = np.float32)\n",
      "\n",
      "for epoch in range(50):\n",
      "    train_err = 0\n",
      "    batch_index = 0\n",
      "    for batch in iterate_minibatches(X_train, y_train, 100, 10, shuffle=True):\n",
      "        inputs, targets = batch\n",
      "        current_result = train_fn(inputs, targets)\n",
      "        train_err += current_result\n",
      "#         print(\"-------------\")\n",
      "#         print(current_result)\n",
      "#         print(np.mean(lasagne.layers.get_all_param_values(network)[2][0]))\n",
      "#         print(\"-------------\")\n",
      "        batch_index += 1\n",
      "    print(train_err)\n",
      "\n",
      "learnedWeights = lasagne.layers.get_all_param_values(network)"
     ],
     "language": "python",
     "metadata": {},
     "outputs": [
      {
       "output_type": "stream",
       "stream": "stdout",
       "text": [
        "Loading data...\n",
        "[output_layer.Means, output_layer.Weights]"
       ]
      },
      {
       "output_type": "stream",
       "stream": "stdout",
       "text": [
        "\n",
        "446401.556458"
       ]
      },
      {
       "output_type": "stream",
       "stream": "stdout",
       "text": [
        "\n",
        "444757.111694"
       ]
      },
      {
       "output_type": "stream",
       "stream": "stdout",
       "text": [
        "\n",
        "444669.202393"
       ]
      },
      {
       "output_type": "stream",
       "stream": "stdout",
       "text": [
        "\n",
        "444494.811829"
       ]
      },
      {
       "output_type": "stream",
       "stream": "stdout",
       "text": [
        "\n",
        "444359.629822"
       ]
      },
      {
       "output_type": "stream",
       "stream": "stdout",
       "text": [
        "\n",
        "444237.168884"
       ]
      },
      {
       "output_type": "stream",
       "stream": "stdout",
       "text": [
        "\n",
        "444097.87323"
       ]
      },
      {
       "output_type": "stream",
       "stream": "stdout",
       "text": [
        "\n",
        "443984.33136"
       ]
      },
      {
       "output_type": "stream",
       "stream": "stdout",
       "text": [
        "\n",
        "443909.76062"
       ]
      },
      {
       "output_type": "stream",
       "stream": "stdout",
       "text": [
        "\n",
        "443816.694946"
       ]
      },
      {
       "output_type": "stream",
       "stream": "stdout",
       "text": [
        "\n",
        "443694.884033"
       ]
      },
      {
       "output_type": "stream",
       "stream": "stdout",
       "text": [
        "\n",
        "443610.835083"
       ]
      },
      {
       "output_type": "stream",
       "stream": "stdout",
       "text": [
        "\n",
        "443480.565613"
       ]
      },
      {
       "output_type": "stream",
       "stream": "stdout",
       "text": [
        "\n",
        "443365.682312"
       ]
      },
      {
       "output_type": "stream",
       "stream": "stdout",
       "text": [
        "\n",
        "443260.681641"
       ]
      },
      {
       "output_type": "stream",
       "stream": "stdout",
       "text": [
        "\n",
        "443139.482483"
       ]
      },
      {
       "output_type": "stream",
       "stream": "stdout",
       "text": [
        "\n",
        "443048.172852"
       ]
      },
      {
       "output_type": "stream",
       "stream": "stdout",
       "text": [
        "\n",
        "443000.975098"
       ]
      },
      {
       "output_type": "stream",
       "stream": "stdout",
       "text": [
        "\n",
        "442968.030945"
       ]
      },
      {
       "output_type": "stream",
       "stream": "stdout",
       "text": [
        "\n",
        "442933.937988"
       ]
      },
      {
       "output_type": "stream",
       "stream": "stdout",
       "text": [
        "\n",
        "442894.131042"
       ]
      },
      {
       "output_type": "stream",
       "stream": "stdout",
       "text": [
        "\n",
        "442847.522766"
       ]
      },
      {
       "output_type": "stream",
       "stream": "stdout",
       "text": [
        "\n",
        "442804.618408"
       ]
      },
      {
       "output_type": "stream",
       "stream": "stdout",
       "text": [
        "\n",
        "442772.464417"
       ]
      },
      {
       "output_type": "stream",
       "stream": "stdout",
       "text": [
        "\n",
        "442743.927124"
       ]
      },
      {
       "output_type": "stream",
       "stream": "stdout",
       "text": [
        "\n",
        "442715.276733"
       ]
      },
      {
       "output_type": "stream",
       "stream": "stdout",
       "text": [
        "\n",
        "442688.925781"
       ]
      },
      {
       "output_type": "stream",
       "stream": "stdout",
       "text": [
        "\n",
        "442666.58197"
       ]
      },
      {
       "output_type": "stream",
       "stream": "stdout",
       "text": [
        "\n",
        "442647.022339"
       ]
      },
      {
       "output_type": "stream",
       "stream": "stdout",
       "text": [
        "\n",
        "442628.634827"
       ]
      },
      {
       "output_type": "stream",
       "stream": "stdout",
       "text": [
        "\n",
        "442610.877686"
       ]
      },
      {
       "output_type": "stream",
       "stream": "stdout",
       "text": [
        "\n",
        "442594.407898"
       ]
      },
      {
       "output_type": "stream",
       "stream": "stdout",
       "text": [
        "\n",
        "442580.516846"
       ]
      },
      {
       "output_type": "stream",
       "stream": "stdout",
       "text": [
        "\n",
        "442567.844055"
       ]
      },
      {
       "output_type": "stream",
       "stream": "stdout",
       "text": [
        "\n",
        "442553.302246"
       ]
      },
      {
       "output_type": "stream",
       "stream": "stdout",
       "text": [
        "\n",
        "442534.950195"
       ]
      },
      {
       "output_type": "stream",
       "stream": "stdout",
       "text": [
        "\n",
        "442512.988525"
       ]
      },
      {
       "output_type": "stream",
       "stream": "stdout",
       "text": [
        "\n",
        "442489.05719"
       ]
      },
      {
       "output_type": "stream",
       "stream": "stdout",
       "text": [
        "\n",
        "442466.115234"
       ]
      },
      {
       "output_type": "stream",
       "stream": "stdout",
       "text": [
        "\n",
        "442447.220459"
       ]
      },
      {
       "output_type": "stream",
       "stream": "stdout",
       "text": [
        "\n",
        "442433.002319"
       ]
      },
      {
       "output_type": "stream",
       "stream": "stdout",
       "text": [
        "\n",
        "442421.652649"
       ]
      },
      {
       "output_type": "stream",
       "stream": "stdout",
       "text": [
        "\n",
        "442410.944702"
       ]
      },
      {
       "output_type": "stream",
       "stream": "stdout",
       "text": [
        "\n",
        "442400.092041"
       ]
      },
      {
       "output_type": "stream",
       "stream": "stdout",
       "text": [
        "\n",
        "442389.243347"
       ]
      },
      {
       "output_type": "stream",
       "stream": "stdout",
       "text": [
        "\n",
        "442379.573975"
       ]
      },
      {
       "output_type": "stream",
       "stream": "stdout",
       "text": [
        "\n",
        "442370.786926"
       ]
      },
      {
       "output_type": "stream",
       "stream": "stdout",
       "text": [
        "\n",
        "442362.839172"
       ]
      },
      {
       "output_type": "stream",
       "stream": "stdout",
       "text": [
        "\n",
        "442355.310364"
       ]
      },
      {
       "output_type": "stream",
       "stream": "stdout",
       "text": [
        "\n"
       ]
      },
      {
       "ename": "MemoryError",
       "evalue": "Error allocating 15680000 bytes of device memory (out of memory).\nApply node that caused the error: GpuElemwise{Composite{sqr((i0 * i1))},no_inplace}(GpuElemwise{sub,no_inplace}.0, GpuElemwise{Composite{sqrt(inv(i0))},no_inplace}.0)\nToposort index: 53\nInputs types: [CudaNdarrayType(float32, 4D), CudaNdarrayType(float32, (True, False, False, False))]\nInputs shapes: [(100, 10, 5, 784), (1, 10, 5, 784)]\nInputs strides: [(39200, 3920, 784, 1), (0, 3920, 784, 1)]\nInputs values: ['not shown', 'not shown']\nOutputs clients: [[GpuReshape{2}(GpuElemwise{Composite{sqr((i0 * i1))},no_inplace}.0, MakeVector{dtype='int64'}.0)]]\n\nDebugprint of the apply node: \nGpuElemwise{Composite{sqr((i0 * i1))},no_inplace} [id A] <CudaNdarrayType(float32, 4D)> ''   \n |GpuElemwise{sub,no_inplace} [id B] <CudaNdarrayType(float32, 4D)> ''   \n | |GpuDimShuffle{0,x,x,1} [id C] <CudaNdarrayType(float32, (False, True, True, False))> ''   \n | | |GpuSubtensor{::, :int64:} [id D] <CudaNdarrayType(float32, matrix)> ''   \n | |   |GpuJoin [id E] <CudaNdarrayType(float32, matrix)> ''   \n | |   | |TensorConstant{1} [id F] <TensorType(int8, scalar)>\n | |   | |GpuReshape{2} [id G] <CudaNdarrayType(float32, matrix)> ''   \n | |   | | |GpuFromHost [id H] <CudaNdarrayType(float32, 4D)> ''   \n | |   | | | |inputs [id I] <TensorType(float32, 4D)>\n | |   | | |MakeVector{dtype='int64'} [id J] <TensorType(int64, vector)> ''   \n | |   | |   |Shape_i{0} [id K] <TensorType(int64, scalar)> ''   \n | |   | |   | |inputs [id I] <TensorType(float32, 4D)>\n | |   | |   |TensorConstant{784} [id L] <TensorType(int64, scalar)>\n | |   | |GpuFromHost [id M] <CudaNdarrayType(float32, matrix)> ''   \n | |   |   |targets [id N] <TensorType(float32, matrix)>\n | |   |Constant{-10} [id O] <int64>\n | |GpuDimShuffle{x,0,1,2} [id P] <CudaNdarrayType(float32, (True, False, False, False))> ''   \n |   |output_layer.Means [id Q] <CudaNdarrayType(float32, 3D)>\n |GpuElemwise{Composite{sqrt(inv(i0))},no_inplace} [id R] <CudaNdarrayType(float32, (True, False, False, False))> ''   \n   |GpuDimShuffle{x,0,1,2} [id S] <CudaNdarrayType(float32, (True, False, False, False))> ''   \n     |output_layer.Sigmas [id T] <CudaNdarrayType(float32, 3D)>\n\nStorage map footprint:\n - GpuElemwise{sub,no_inplace}.0, Shape: (100, 10, 5, 784), ElemSize: 4 Byte(s), TotalSize: 15680000 Byte(s)\n - GpuJoin.0, Shape: (100, 794), ElemSize: 4 Byte(s), TotalSize: 317600 Byte(s)\n - inputs, Input, Shape: (100, 1, 28, 28), ElemSize: 4 Byte(s), TotalSize: 313600 Byte(s)\n - output_layer.Means, Shared Input, Shape: (10, 5, 784), ElemSize: 4 Byte(s), TotalSize: 156800 Byte(s)\n - output_layer.Sigmas, Shared Input, Shape: (10, 5, 784), ElemSize: 4 Byte(s), TotalSize: 156800 Byte(s)\n - GpuElemwise{Composite{sqrt(inv(i0))},no_inplace}.0, Shape: (1, 10, 5, 784), ElemSize: 4 Byte(s), TotalSize: 156800 Byte(s)\n - GpuDimShuffle{x,0,1,2}.0, Shape: (1, 10, 5, 784), ElemSize: 4 Byte(s), TotalSize: 156800 Byte(s)\n - targets, Input, Shape: (100, 10), ElemSize: 4 Byte(s), TotalSize: 4000 Byte(s)\n - output_layer.Weights, Shared Input, Shape: (10, 5), ElemSize: 4 Byte(s), TotalSize: 200 Byte(s)\n - TensorConstant{784}, Shape: (), ElemSize: 8 Byte(s), TotalSize: 8.0 Byte(s)\n - Shape_i{0}.0, Shape: (), ElemSize: 8 Byte(s), TotalSize: 8.0 Byte(s)\n - TensorConstant{-784}, Shape: (), ElemSize: 8 Byte(s), TotalSize: 8.0 Byte(s)\n - TensorConstant{1}, Shape: (), ElemSize: 8 Byte(s), TotalSize: 8.0 Byte(s)\n - Constant{-10}, Shape: (), ElemSize: 8 Byte(s), TotalSize: 8.0 Byte(s)\n - TensorConstant{-10}, Shape: (), ElemSize: 8 Byte(s), TotalSize: 8.0 Byte(s)\n - CudaNdarrayConstant{[[[ 0.1]]]}, Shape: (1, 1, 1), ElemSize: 4 Byte(s), TotalSize: 4 Byte(s)\n - CudaNdarrayConstant{[[[ 1440.89562988]]]}, Shape: (1, 1, 1), ElemSize: 4 Byte(s), TotalSize: 4 Byte(s)\n - CudaNdarrayConstant{[[ 0.5]]}, Shape: (1, 1), ElemSize: 4 Byte(s), TotalSize: 4 Byte(s)\n - CudaNdarrayConstant{[[[-1.]]]}, Shape: (1, 1, 1), ElemSize: 4 Byte(s), TotalSize: 4 Byte(s)\n - CudaNdarrayConstant{[[[-0.5]]]}, Shape: (1, 1, 1), ElemSize: 4 Byte(s), TotalSize: 4 Byte(s)\n - CudaNdarrayConstant{[[[ 1.]]]}, Shape: (1, 1, 1), ElemSize: 4 Byte(s), TotalSize: 4 Byte(s)\n - CudaNdarrayConstant{[[  1.00000002e-16]]}, Shape: (1, 1), ElemSize: 4 Byte(s), TotalSize: 4 Byte(s)\n - CudaNdarrayConstant{[[ 0.1]]}, Shape: (1, 1), ElemSize: 4 Byte(s), TotalSize: 4 Byte(s)\n - TensorConstant{1}, Shape: (), ElemSize: 1 Byte(s), TotalSize: 1.0 Byte(s)\n - TensorConstant{0}, Shape: (), ElemSize: 1 Byte(s), TotalSize: 1.0 Byte(s)\n - TensorConstant{-1}, Shape: (), ElemSize: 1 Byte(s), TotalSize: 1.0 Byte(s)\n TotalSize: 16785883.0 Byte(s) 0.016 GB\n TotalSize inputs: 631475.0 Byte(s) 0.001 GB\n\nHINT: Re-running with most Theano optimization disabled could give you a back-trace of when this node was created. This can be done with by setting the Theano flag 'optimizer=fast_compile'. If that does not work, Theano optimizations can be disabled with 'optimizer=None'.",
       "output_type": "pyerr",
       "traceback": [
        "\u001b[0;31m---------------------------------------------------------------------------\u001b[0m\n\u001b[0;31mMemoryError\u001b[0m                               Traceback (most recent call last)",
        "\u001b[0;32m<ipython-input-4-80802d2c88f2>\u001b[0m in \u001b[0;36m<module>\u001b[0;34m()\u001b[0m\n\u001b[1;32m     45\u001b[0m     \u001b[0;32mfor\u001b[0m \u001b[0mbatch\u001b[0m \u001b[0;32min\u001b[0m \u001b[0miterate_minibatches\u001b[0m\u001b[0;34m(\u001b[0m\u001b[0mX_train\u001b[0m\u001b[0;34m,\u001b[0m \u001b[0my_train\u001b[0m\u001b[0;34m,\u001b[0m \u001b[0;36m100\u001b[0m\u001b[0;34m,\u001b[0m \u001b[0;36m10\u001b[0m\u001b[0;34m,\u001b[0m \u001b[0mshuffle\u001b[0m\u001b[0;34m=\u001b[0m\u001b[0mTrue\u001b[0m\u001b[0;34m)\u001b[0m\u001b[0;34m:\u001b[0m\u001b[0;34m\u001b[0m\u001b[0m\n\u001b[1;32m     46\u001b[0m         \u001b[0minputs\u001b[0m\u001b[0;34m,\u001b[0m \u001b[0mtargets\u001b[0m \u001b[0;34m=\u001b[0m \u001b[0mbatch\u001b[0m\u001b[0;34m\u001b[0m\u001b[0m\n\u001b[0;32m---> 47\u001b[0;31m         \u001b[0mcurrent_result\u001b[0m \u001b[0;34m=\u001b[0m \u001b[0mtrain_fn\u001b[0m\u001b[0;34m(\u001b[0m\u001b[0minputs\u001b[0m\u001b[0;34m,\u001b[0m \u001b[0mtargets\u001b[0m\u001b[0;34m)\u001b[0m\u001b[0;34m\u001b[0m\u001b[0m\n\u001b[0m\u001b[1;32m     48\u001b[0m         \u001b[0mtrain_err\u001b[0m \u001b[0;34m+=\u001b[0m \u001b[0mcurrent_result\u001b[0m\u001b[0;34m\u001b[0m\u001b[0m\n\u001b[1;32m     49\u001b[0m \u001b[0;31m#         print(\"-------------\")\u001b[0m\u001b[0;34m\u001b[0m\u001b[0;34m\u001b[0m\u001b[0m\n",
        "\u001b[0;32m/Users/jiajunshen/Library/Enthought/Canopy_64bit/User/lib/python2.7/site-packages/theano/compile/function_module.pyc\u001b[0m in \u001b[0;36m__call__\u001b[0;34m(self, *args, **kwargs)\u001b[0m\n\u001b[1;32m    869\u001b[0m                     \u001b[0mnode\u001b[0m\u001b[0;34m=\u001b[0m\u001b[0mself\u001b[0m\u001b[0;34m.\u001b[0m\u001b[0mfn\u001b[0m\u001b[0;34m.\u001b[0m\u001b[0mnodes\u001b[0m\u001b[0;34m[\u001b[0m\u001b[0mself\u001b[0m\u001b[0;34m.\u001b[0m\u001b[0mfn\u001b[0m\u001b[0;34m.\u001b[0m\u001b[0mposition_of_error\u001b[0m\u001b[0;34m]\u001b[0m\u001b[0;34m,\u001b[0m\u001b[0;34m\u001b[0m\u001b[0m\n\u001b[1;32m    870\u001b[0m                     \u001b[0mthunk\u001b[0m\u001b[0;34m=\u001b[0m\u001b[0mthunk\u001b[0m\u001b[0;34m,\u001b[0m\u001b[0;34m\u001b[0m\u001b[0m\n\u001b[0;32m--> 871\u001b[0;31m                     storage_map=getattr(self.fn, 'storage_map', None))\n\u001b[0m\u001b[1;32m    872\u001b[0m             \u001b[0;32melse\u001b[0m\u001b[0;34m:\u001b[0m\u001b[0;34m\u001b[0m\u001b[0m\n\u001b[1;32m    873\u001b[0m                 \u001b[0;31m# old-style linkers raise their own exceptions\u001b[0m\u001b[0;34m\u001b[0m\u001b[0;34m\u001b[0m\u001b[0m\n",
        "\u001b[0;32m/Users/jiajunshen/Library/Enthought/Canopy_64bit/User/lib/python2.7/site-packages/theano/gof/link.pyc\u001b[0m in \u001b[0;36mraise_with_op\u001b[0;34m(node, thunk, exc_info, storage_map)\u001b[0m\n\u001b[1;32m    312\u001b[0m         \u001b[0;31m# extra long error message in that case.\u001b[0m\u001b[0;34m\u001b[0m\u001b[0;34m\u001b[0m\u001b[0m\n\u001b[1;32m    313\u001b[0m         \u001b[0;32mpass\u001b[0m\u001b[0;34m\u001b[0m\u001b[0m\n\u001b[0;32m--> 314\u001b[0;31m     \u001b[0mreraise\u001b[0m\u001b[0;34m(\u001b[0m\u001b[0mexc_type\u001b[0m\u001b[0;34m,\u001b[0m \u001b[0mexc_value\u001b[0m\u001b[0;34m,\u001b[0m \u001b[0mexc_trace\u001b[0m\u001b[0;34m)\u001b[0m\u001b[0;34m\u001b[0m\u001b[0m\n\u001b[0m\u001b[1;32m    315\u001b[0m \u001b[0;34m\u001b[0m\u001b[0m\n\u001b[1;32m    316\u001b[0m \u001b[0;34m\u001b[0m\u001b[0m\n",
        "\u001b[0;32m/Users/jiajunshen/Library/Enthought/Canopy_64bit/User/lib/python2.7/site-packages/theano/compile/function_module.pyc\u001b[0m in \u001b[0;36m__call__\u001b[0;34m(self, *args, **kwargs)\u001b[0m\n\u001b[1;32m    857\u001b[0m         \u001b[0mt0_fn\u001b[0m \u001b[0;34m=\u001b[0m \u001b[0mtime\u001b[0m\u001b[0;34m.\u001b[0m\u001b[0mtime\u001b[0m\u001b[0;34m(\u001b[0m\u001b[0;34m)\u001b[0m\u001b[0;34m\u001b[0m\u001b[0m\n\u001b[1;32m    858\u001b[0m         \u001b[0;32mtry\u001b[0m\u001b[0;34m:\u001b[0m\u001b[0;34m\u001b[0m\u001b[0m\n\u001b[0;32m--> 859\u001b[0;31m             \u001b[0moutputs\u001b[0m \u001b[0;34m=\u001b[0m \u001b[0mself\u001b[0m\u001b[0;34m.\u001b[0m\u001b[0mfn\u001b[0m\u001b[0;34m(\u001b[0m\u001b[0;34m)\u001b[0m\u001b[0;34m\u001b[0m\u001b[0m\n\u001b[0m\u001b[1;32m    860\u001b[0m         \u001b[0;32mexcept\u001b[0m \u001b[0mException\u001b[0m\u001b[0;34m:\u001b[0m\u001b[0;34m\u001b[0m\u001b[0m\n\u001b[1;32m    861\u001b[0m             \u001b[0;32mif\u001b[0m \u001b[0mhasattr\u001b[0m\u001b[0;34m(\u001b[0m\u001b[0mself\u001b[0m\u001b[0;34m.\u001b[0m\u001b[0mfn\u001b[0m\u001b[0;34m,\u001b[0m \u001b[0;34m'position_of_error'\u001b[0m\u001b[0;34m)\u001b[0m\u001b[0;34m:\u001b[0m\u001b[0;34m\u001b[0m\u001b[0m\n",
        "\u001b[0;31mMemoryError\u001b[0m: Error allocating 15680000 bytes of device memory (out of memory).\nApply node that caused the error: GpuElemwise{Composite{sqr((i0 * i1))},no_inplace}(GpuElemwise{sub,no_inplace}.0, GpuElemwise{Composite{sqrt(inv(i0))},no_inplace}.0)\nToposort index: 53\nInputs types: [CudaNdarrayType(float32, 4D), CudaNdarrayType(float32, (True, False, False, False))]\nInputs shapes: [(100, 10, 5, 784), (1, 10, 5, 784)]\nInputs strides: [(39200, 3920, 784, 1), (0, 3920, 784, 1)]\nInputs values: ['not shown', 'not shown']\nOutputs clients: [[GpuReshape{2}(GpuElemwise{Composite{sqr((i0 * i1))},no_inplace}.0, MakeVector{dtype='int64'}.0)]]\n\nDebugprint of the apply node: \nGpuElemwise{Composite{sqr((i0 * i1))},no_inplace} [id A] <CudaNdarrayType(float32, 4D)> ''   \n |GpuElemwise{sub,no_inplace} [id B] <CudaNdarrayType(float32, 4D)> ''   \n | |GpuDimShuffle{0,x,x,1} [id C] <CudaNdarrayType(float32, (False, True, True, False))> ''   \n | | |GpuSubtensor{::, :int64:} [id D] <CudaNdarrayType(float32, matrix)> ''   \n | |   |GpuJoin [id E] <CudaNdarrayType(float32, matrix)> ''   \n | |   | |TensorConstant{1} [id F] <TensorType(int8, scalar)>\n | |   | |GpuReshape{2} [id G] <CudaNdarrayType(float32, matrix)> ''   \n | |   | | |GpuFromHost [id H] <CudaNdarrayType(float32, 4D)> ''   \n | |   | | | |inputs [id I] <TensorType(float32, 4D)>\n | |   | | |MakeVector{dtype='int64'} [id J] <TensorType(int64, vector)> ''   \n | |   | |   |Shape_i{0} [id K] <TensorType(int64, scalar)> ''   \n | |   | |   | |inputs [id I] <TensorType(float32, 4D)>\n | |   | |   |TensorConstant{784} [id L] <TensorType(int64, scalar)>\n | |   | |GpuFromHost [id M] <CudaNdarrayType(float32, matrix)> ''   \n | |   |   |targets [id N] <TensorType(float32, matrix)>\n | |   |Constant{-10} [id O] <int64>\n | |GpuDimShuffle{x,0,1,2} [id P] <CudaNdarrayType(float32, (True, False, False, False))> ''   \n |   |output_layer.Means [id Q] <CudaNdarrayType(float32, 3D)>\n |GpuElemwise{Composite{sqrt(inv(i0))},no_inplace} [id R] <CudaNdarrayType(float32, (True, False, False, False))> ''   \n   |GpuDimShuffle{x,0,1,2} [id S] <CudaNdarrayType(float32, (True, False, False, False))> ''   \n     |output_layer.Sigmas [id T] <CudaNdarrayType(float32, 3D)>\n\nStorage map footprint:\n - GpuElemwise{sub,no_inplace}.0, Shape: (100, 10, 5, 784), ElemSize: 4 Byte(s), TotalSize: 15680000 Byte(s)\n - GpuJoin.0, Shape: (100, 794), ElemSize: 4 Byte(s), TotalSize: 317600 Byte(s)\n - inputs, Input, Shape: (100, 1, 28, 28), ElemSize: 4 Byte(s), TotalSize: 313600 Byte(s)\n - output_layer.Means, Shared Input, Shape: (10, 5, 784), ElemSize: 4 Byte(s), TotalSize: 156800 Byte(s)\n - output_layer.Sigmas, Shared Input, Shape: (10, 5, 784), ElemSize: 4 Byte(s), TotalSize: 156800 Byte(s)\n - GpuElemwise{Composite{sqrt(inv(i0))},no_inplace}.0, Shape: (1, 10, 5, 784), ElemSize: 4 Byte(s), TotalSize: 156800 Byte(s)\n - GpuDimShuffle{x,0,1,2}.0, Shape: (1, 10, 5, 784), ElemSize: 4 Byte(s), TotalSize: 156800 Byte(s)\n - targets, Input, Shape: (100, 10), ElemSize: 4 Byte(s), TotalSize: 4000 Byte(s)\n - output_layer.Weights, Shared Input, Shape: (10, 5), ElemSize: 4 Byte(s), TotalSize: 200 Byte(s)\n - TensorConstant{784}, Shape: (), ElemSize: 8 Byte(s), TotalSize: 8.0 Byte(s)\n - Shape_i{0}.0, Shape: (), ElemSize: 8 Byte(s), TotalSize: 8.0 Byte(s)\n - TensorConstant{-784}, Shape: (), ElemSize: 8 Byte(s), TotalSize: 8.0 Byte(s)\n - TensorConstant{1}, Shape: (), ElemSize: 8 Byte(s), TotalSize: 8.0 Byte(s)\n - Constant{-10}, Shape: (), ElemSize: 8 Byte(s), TotalSize: 8.0 Byte(s)\n - TensorConstant{-10}, Shape: (), ElemSize: 8 Byte(s), TotalSize: 8.0 Byte(s)\n - CudaNdarrayConstant{[[[ 0.1]]]}, Shape: (1, 1, 1), ElemSize: 4 Byte(s), TotalSize: 4 Byte(s)\n - CudaNdarrayConstant{[[[ 1440.89562988]]]}, Shape: (1, 1, 1), ElemSize: 4 Byte(s), TotalSize: 4 Byte(s)\n - CudaNdarrayConstant{[[ 0.5]]}, Shape: (1, 1), ElemSize: 4 Byte(s), TotalSize: 4 Byte(s)\n - CudaNdarrayConstant{[[[-1.]]]}, Shape: (1, 1, 1), ElemSize: 4 Byte(s), TotalSize: 4 Byte(s)\n - CudaNdarrayConstant{[[[-0.5]]]}, Shape: (1, 1, 1), ElemSize: 4 Byte(s), TotalSize: 4 Byte(s)\n - CudaNdarrayConstant{[[[ 1.]]]}, Shape: (1, 1, 1), ElemSize: 4 Byte(s), TotalSize: 4 Byte(s)\n - CudaNdarrayConstant{[[  1.00000002e-16]]}, Shape: (1, 1), ElemSize: 4 Byte(s), TotalSize: 4 Byte(s)\n - CudaNdarrayConstant{[[ 0.1]]}, Shape: (1, 1), ElemSize: 4 Byte(s), TotalSize: 4 Byte(s)\n - TensorConstant{1}, Shape: (), ElemSize: 1 Byte(s), TotalSize: 1.0 Byte(s)\n - TensorConstant{0}, Shape: (), ElemSize: 1 Byte(s), TotalSize: 1.0 Byte(s)\n - TensorConstant{-1}, Shape: (), ElemSize: 1 Byte(s), TotalSize: 1.0 Byte(s)\n TotalSize: 16785883.0 Byte(s) 0.016 GB\n TotalSize inputs: 631475.0 Byte(s) 0.001 GB\n\nHINT: Re-running with most Theano optimization disabled could give you a back-trace of when this node was created. This can be done with by setting the Theano flag 'optimizer=fast_compile'. If that does not work, Theano optimizations can be disabled with 'optimizer=None'."
       ]
      }
     ],
     "prompt_number": 4
    },
    {
     "cell_type": "code",
     "collapsed": false,
     "input": [
      "import amitgroup.plot as gr\n",
      "%matplotlib inline\n",
      "for i in range(10):\n",
      "    gr.images(lasagne.layers.get_all_param_values(network)[0][i].reshape(5,28,28))\n",
      "#np.save(\"../data/gaussianDigits.npy\", learnedWeights) "
     ],
     "language": "python",
     "metadata": {},
     "outputs": [
      {
       "metadata": {},
       "output_type": "display_data",
       "png": "[encoded data removed]",
       "text": [
        "<matplotlib.figure.Figure at 0x129279110>"
       ]
      },
      {
       "metadata": {},
       "output_type": "display_data",
       "png": "[encoded data removed]",
       "text": [
        "<matplotlib.figure.Figure at 0x122d09250>"
       ]
      },
      {
       "metadata": {},
       "output_type": "display_data",
       "png": "[encoded data removed]",
       "text": [
        "<matplotlib.figure.Figure at 0x123001750>"
       ]
      },
      {
       "metadata": {},
       "output_type": "display_data",
       "png": "[encoded data removed]",
       "text": [
        "<matplotlib.figure.Figure at 0x122db7310>"
       ]
      },
      {
       "metadata": {},
       "output_type": "display_data",
       "png": "[encoded data removed]",
       "text": [
        "<matplotlib.figure.Figure at 0x122dbf550>"
       ]
      },
      {
       "metadata": {},
       "output_type": "display_data",
       "png": "[encoded data removed]",
       "text": [
        "<matplotlib.figure.Figure at 0x122d3c710>"
       ]
      },
      {
       "metadata": {},
       "output_type": "display_data",
       "png": "[encoded data removed]",
       "text": [
        "<matplotlib.figure.Figure at 0x120968290>"
       ]
      },
      {
       "metadata": {},
       "output_type": "display_data",
       "png": "[encoded data removed]",
       "text": [
        "<matplotlib.figure.Figure at 0x12306d110>"
       ]
      },
      {
       "metadata": {},
       "output_type": "display_data",
       "png": "[encoded data removed]",
       "text": [
        "<matplotlib.figure.Figure at 0x11df6b650>"
       ]
      },
      {
       "metadata": {},
       "output_type": "display_data",
       "png": "[encoded data removed]",
       "text": [
        "<matplotlib.figure.Figure at 0x12340be10>"
       ]
      }
     ],
     "prompt_number": 5
    },
    {
     "cell_type": "code",
     "collapsed": false,
     "input": [
      "lasagne.layers.get_all_param_values(network)[0][0]"
     ],
     "language": "python",
     "metadata": {},
     "outputs": [
      {
       "metadata": {},
       "output_type": "pyout",
       "prompt_number": 6,
       "text": [
        "array([[ -1.92090734e-08,  -6.70451641e-08,   6.10700113e-08, ...,\n",
        "         -1.74590099e-07,  -9.03420201e-08,   4.72382169e-08],\n",
        "       [  1.80713944e-02,  -3.22272233e-03,   1.59824360e-02, ...,\n",
        "          7.66745245e-04,  -1.13041941e-02,  -7.83160143e-03],\n",
        "       [ -1.39464010e-02,  -2.38185195e-04,  -2.21952540e-03, ...,\n",
        "          5.31593058e-03,   4.11872810e-04,  -4.98769199e-03],\n",
        "       [ -1.64153744e-02,   1.32825843e-03,  -8.07872973e-03, ...,\n",
        "          1.18604694e-02,  -2.60277977e-03,   4.55988804e-03],\n",
        "       [  1.66543294e-02,   1.66674145e-02,   1.00882472e-02, ...,\n",
        "         -1.97467245e-02,  -8.42260011e-03,   5.72868250e-03]], dtype=float32)"
       ]
      }
     ],
     "prompt_number": 6
    },
    {
     "cell_type": "code",
     "collapsed": false,
     "input": [],
     "language": "python",
     "metadata": {},
     "outputs": []
    }
   ],
   "metadata": {}
  }
 ]
}