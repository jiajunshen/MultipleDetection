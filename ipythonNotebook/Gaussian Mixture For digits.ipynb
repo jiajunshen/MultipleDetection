{
 "metadata": {
  "name": "",
  "signature": "sha256:29be42c12b55a58f50dd69767317893d93ab41f642f820efad67d97b3d4b354e"
 },
 "nbformat": 3,
 "nbformat_minor": 0,
 "worksheets": [
  {
   "cells": [
    {
     "cell_type": "code",
     "collapsed": false,
     "input": [
      "import os\n",
      "import numpy as np\n",
      "import sys\n",
      "import time\n",
      "import theano\n",
      "import theano.tensor as T\n",
      "import lasagne\n",
      "from lasagne.layers.dnn import Conv2DDNNLayer as Conv2DLayer\n",
      "from lasagne.layers.dnn import MaxPool2DDNNLayer as MaxPool2DLayer\n",
      "os.chdir(\"../src/\")\n",
      "from dataPreparation import load_data\n",
      "\n",
      "def iterate_minibatches(inputs, targets, batchsize, classNum = 10, shuffle=False):\n",
      "    targets = np.array(targets, dtype = np.int32)\n",
      "    assert len(inputs) == len(targets)\n",
      "    if shuffle:\n",
      "        indices = np.arange(len(inputs))\n",
      "        np.random.shuffle(indices)\n",
      "    for start_idx in range(0, len(inputs) - batchsize + 1, batchsize):\n",
      "        if shuffle:\n",
      "            excerpt = indices[start_idx:start_idx + batchsize]\n",
      "        else:\n",
      "            excerpt = slice(start_idx, start_idx + batchsize)\n",
      "        binary_targets = np.zeros((batchsize, classNum))\n",
      "        binary_targets[np.arange(batchsize),targets[excerpt]] = 1\n",
      "        yield inputs[excerpt], np.array(binary_targets,dtype = np.float32)"
     ],
     "language": "python",
     "metadata": {},
     "outputs": [
      {
       "output_type": "stream",
       "stream": "stderr",
       "text": [
        "Using gpu device 0: GeForce GT 650M (CNMeM is disabled)\n"
       ]
      }
     ],
     "prompt_number": 1
    },
    {
     "cell_type": "code",
     "collapsed": false,
     "input": [
      "\n",
      "# Load the dataset\n",
      "print(\"Loading data...\")\n",
      "\n",
      "X_train, y_train, X_test, y_test = load_data(\"/X_train.npy\", \"/Y_train.npy\", \"/X_test.npy\", \"/Y_test.npy\")\n",
      "\n",
      "input_var = T.ftensor4('inputs')\n",
      "target_var = T.fmatrix('targets')\n",
      "\n",
      "network = lasagne.layers.InputLayer(shape=(None, 1, 28, 28),\n",
      "                                    input_var=input_var, name = 'input_layer')\n",
      "\n",
      "network_reshape = lasagne.layers.ReshapeLayer(network, shape=([0], 784), name = 'reshape_layer')\n",
      "\n",
      "\n",
      "network = lasagne.layers.MultiGaussianMixture(network_reshape, num_components = 5, n_classes = 10 , name = 'output_layer', sigma=lasagne.init.Constant(1))\n",
      "\n",
      "network_output = lasagne.layers.get_output(network)\n",
      "\n",
      "loss = lasagne.objectives.multi_negative_llh(network_output, target_var)\n",
      "\n",
      "loss.name = 'loss'\n",
      "loss_mean = loss.mean()\n",
      "loss_mean.name = 'loss_mean'\n",
      "\n",
      "params = lasagne.layers.get_all_params(network, trainable=True)\n",
      "print(params)\n",
      "#updates = lasagne.updates.nesterov_momentum(\n",
      "#        loss_mean, params, learning_rate=0.001, momentum=0.9)\n",
      "gparams = T.grad(loss_mean, params)\n",
      "\n",
      "\n",
      "updates = [\n",
      "    (param, param - 0.1 * gparam)\n",
      "    for param, gparam in zip(params, gparams)\n",
      " ]\n",
      "\n",
      "train_fn = theano.function([input_var, target_var], [loss_mean,network_output], updates=updates)\n",
      "\n",
      "for epoch in range(50):\n",
      "    train_err = 0\n",
      "    batch_index = 0\n",
      "    for batch in iterate_minibatches(X_train, y_train, 50, 10, shuffle=True):\n",
      "        inputs, targets = batch\n",
      "        current_result = train_fn(inputs, targets)\n",
      "        train_err += current_result[0]\n",
      "#         print(\"-------------\")\n",
      "#         print(current_result)\n",
      "#         print(np.mean(lasagne.layers.get_all_param_values(network)[2][0]))\n",
      "#         print(\"-------------\")\n",
      "        batch_index += 1\n",
      "    print(train_err)\n",
      "\n",
      "learnedWeights = lasagne.layers.get_all_param_values(network)"
     ],
     "language": "python",
     "metadata": {},
     "outputs": [
      {
       "output_type": "stream",
       "stream": "stdout",
       "text": [
        "Loading data...\n",
        "[output_layer.Means]"
       ]
      },
      {
       "output_type": "stream",
       "stream": "stdout",
       "text": [
        "\n",
        "893024.798401"
       ]
      },
      {
       "output_type": "stream",
       "stream": "stdout",
       "text": [
        "\n",
        "890438.395996"
       ]
      },
      {
       "output_type": "stream",
       "stream": "stdout",
       "text": [
        "\n",
        "889366.816711"
       ]
      },
      {
       "output_type": "stream",
       "stream": "stdout",
       "text": [
        "\n",
        "888291.229309"
       ]
      },
      {
       "output_type": "stream",
       "stream": "stdout",
       "text": [
        "\n",
        "887519.119751"
       ]
      },
      {
       "output_type": "stream",
       "stream": "stdout",
       "text": [
        "\n",
        "886947.377502"
       ]
      },
      {
       "output_type": "stream",
       "stream": "stdout",
       "text": [
        "\n",
        "886632.379272"
       ]
      },
      {
       "output_type": "stream",
       "stream": "stdout",
       "text": [
        "\n",
        "886402.876343"
       ]
      },
      {
       "output_type": "stream",
       "stream": "stdout",
       "text": [
        "\n",
        "886161.995056"
       ]
      },
      {
       "output_type": "stream",
       "stream": "stdout",
       "text": [
        "\n",
        "885947.556091"
       ]
      },
      {
       "output_type": "stream",
       "stream": "stdout",
       "text": [
        "\n",
        "885811.878113"
       ]
      },
      {
       "output_type": "stream",
       "stream": "stdout",
       "text": [
        "\n",
        "885725.231262"
       ]
      },
      {
       "output_type": "stream",
       "stream": "stdout",
       "text": [
        "\n",
        "885660.828735"
       ]
      },
      {
       "output_type": "stream",
       "stream": "stdout",
       "text": [
        "\n",
        "885586.015808"
       ]
      },
      {
       "output_type": "stream",
       "stream": "stdout",
       "text": [
        "\n",
        "885508.088928"
       ]
      },
      {
       "output_type": "stream",
       "stream": "stdout",
       "text": [
        "\n",
        "885465.019348"
       ]
      },
      {
       "output_type": "stream",
       "stream": "stdout",
       "text": [
        "\n",
        "885439.920349"
       ]
      },
      {
       "output_type": "stream",
       "stream": "stdout",
       "text": [
        "\n",
        "885420.422668"
       ]
      },
      {
       "output_type": "stream",
       "stream": "stdout",
       "text": [
        "\n",
        "885406.352844"
       ]
      },
      {
       "output_type": "stream",
       "stream": "stdout",
       "text": [
        "\n",
        "885398.791504"
       ]
      },
      {
       "output_type": "stream",
       "stream": "stdout",
       "text": [
        "\n",
        "885394.526855"
       ]
      },
      {
       "output_type": "stream",
       "stream": "stdout",
       "text": [
        "\n",
        "885390.047668"
       ]
      },
      {
       "output_type": "stream",
       "stream": "stdout",
       "text": [
        "\n",
        "885384.865417"
       ]
      },
      {
       "output_type": "stream",
       "stream": "stdout",
       "text": [
        "\n",
        "885377.211426"
       ]
      },
      {
       "output_type": "stream",
       "stream": "stdout",
       "text": [
        "\n",
        "885370.025452"
       ]
      },
      {
       "output_type": "stream",
       "stream": "stdout",
       "text": [
        "\n",
        "885363.638489"
       ]
      },
      {
       "output_type": "stream",
       "stream": "stdout",
       "text": [
        "\n",
        "885361.231018"
       ]
      },
      {
       "output_type": "stream",
       "stream": "stdout",
       "text": [
        "\n",
        "885359.40863"
       ]
      },
      {
       "output_type": "stream",
       "stream": "stdout",
       "text": [
        "\n",
        "885358.292175"
       ]
      },
      {
       "output_type": "stream",
       "stream": "stdout",
       "text": [
        "\n",
        "885357.970642"
       ]
      },
      {
       "output_type": "stream",
       "stream": "stdout",
       "text": [
        "\n",
        "885357.30365"
       ]
      },
      {
       "output_type": "stream",
       "stream": "stdout",
       "text": [
        "\n",
        "885356.145081"
       ]
      },
      {
       "output_type": "stream",
       "stream": "stdout",
       "text": [
        "\n",
        "885356.259888"
       ]
      },
      {
       "output_type": "stream",
       "stream": "stdout",
       "text": [
        "\n",
        "885355.303528"
       ]
      },
      {
       "output_type": "stream",
       "stream": "stdout",
       "text": [
        "\n",
        "885354.161072"
       ]
      },
      {
       "output_type": "stream",
       "stream": "stdout",
       "text": [
        "\n",
        "885352.783447"
       ]
      },
      {
       "output_type": "stream",
       "stream": "stdout",
       "text": [
        "\n",
        "885350.759399"
       ]
      },
      {
       "output_type": "stream",
       "stream": "stdout",
       "text": [
        "\n",
        "885347.075012"
       ]
      },
      {
       "output_type": "stream",
       "stream": "stdout",
       "text": [
        "\n",
        "885342.873352"
       ]
      },
      {
       "output_type": "stream",
       "stream": "stdout",
       "text": [
        "\n",
        "885340.380005"
       ]
      },
      {
       "output_type": "stream",
       "stream": "stdout",
       "text": [
        "\n",
        "885338.296204"
       ]
      },
      {
       "output_type": "stream",
       "stream": "stdout",
       "text": [
        "\n",
        "885337.284729"
       ]
      },
      {
       "output_type": "stream",
       "stream": "stdout",
       "text": [
        "\n",
        "885337.215271"
       ]
      },
      {
       "output_type": "stream",
       "stream": "stdout",
       "text": [
        "\n",
        "885336.971863"
       ]
      },
      {
       "output_type": "stream",
       "stream": "stdout",
       "text": [
        "\n",
        "885336.75592"
       ]
      },
      {
       "output_type": "stream",
       "stream": "stdout",
       "text": [
        "\n",
        "885336.760498"
       ]
      },
      {
       "output_type": "stream",
       "stream": "stdout",
       "text": [
        "\n",
        "885336.865295"
       ]
      },
      {
       "output_type": "stream",
       "stream": "stdout",
       "text": [
        "\n",
        "885336.471008"
       ]
      },
      {
       "output_type": "stream",
       "stream": "stdout",
       "text": [
        "\n",
        "885336.57251"
       ]
      },
      {
       "output_type": "stream",
       "stream": "stdout",
       "text": [
        "\n",
        "885336.329529"
       ]
      },
      {
       "output_type": "stream",
       "stream": "stdout",
       "text": [
        "\n"
       ]
      }
     ],
     "prompt_number": 3
    },
    {
     "cell_type": "code",
     "collapsed": false,
     "input": [
      "current_result[1]"
     ],
     "language": "python",
     "metadata": {},
     "outputs": [
      {
       "metadata": {},
       "output_type": "pyout",
       "prompt_number": 9,
       "text": [
        "array([[-747.37347412, -751.47271729, -744.8795166 , -753.68804932,\n",
        "        -745.26025391, -748.45275879, -733.75286865, -751.1005249 ,\n",
        "        -748.90136719, -748.76696777],\n",
        "       [-764.35595703, -768.3046875 , -756.62841797, -752.36700439,\n",
        "        -740.79675293, -753.56365967, -761.53204346, -741.35137939,\n",
        "        -751.2711792 , -737.13018799],\n",
        "       [-744.66436768, -784.46136475, -762.60308838, -762.18920898,\n",
        "        -777.59753418, -755.89611816, -774.6272583 , -774.87365723,\n",
        "        -761.0758667 , -770.86907959],\n",
        "       [-762.35369873, -752.17047119, -745.46014404, -745.53179932,\n",
        "        -739.03991699, -748.89361572, -746.60870361, -745.07452393,\n",
        "        -742.51409912, -739.95251465],\n",
        "       [-771.30810547, -762.44836426, -756.91046143, -755.93084717,\n",
        "        -754.60003662, -756.09448242, -761.34295654, -746.29602051,\n",
        "        -759.81140137, -750.86309814],\n",
        "       [-762.17730713, -736.55310059, -739.98034668, -743.50518799,\n",
        "        -751.63323975, -748.73583984, -749.65264893, -747.4006958 ,\n",
        "        -743.97772217, -753.33312988],\n",
        "       [-758.9876709 , -727.10784912, -741.01544189, -742.03924561,\n",
        "        -744.57116699, -739.25909424, -743.2432251 , -742.78887939,\n",
        "        -741.47674561, -746.58612061],\n",
        "       [-754.36907959, -763.95275879, -765.90020752, -755.52160645,\n",
        "        -752.95782471, -739.21783447, -756.06622314, -760.62579346,\n",
        "        -747.07940674, -749.92346191],\n",
        "       [-759.44110107, -763.86712646, -758.62768555, -759.06622314,\n",
        "        -743.16162109, -756.97991943, -761.3659668 , -743.92034912,\n",
        "        -754.54882812, -735.16131592],\n",
        "       [-756.78631592, -767.06915283, -756.972229  , -747.63018799,\n",
        "        -759.37762451, -742.90826416, -752.31677246, -768.04351807,\n",
        "        -745.60284424, -760.13183594],\n",
        "       [-771.49810791, -761.62908936, -739.42230225, -760.53369141,\n",
        "        -765.41131592, -760.85009766, -753.53594971, -769.60430908,\n",
        "        -760.80877686, -769.55761719],\n",
        "       [-756.25396729, -770.98980713, -755.7689209 , -766.27801514,\n",
        "        -753.91436768, -762.55505371, -756.09521484, -762.87005615,\n",
        "        -764.25939941, -749.86431885],\n",
        "       [-754.543396  , -747.77050781, -750.34820557, -749.48443604,\n",
        "        -743.43792725, -735.36682129, -749.42297363, -749.83380127,\n",
        "        -747.64385986, -744.67645264],\n",
        "       [-740.91741943, -783.8583374 , -754.53405762, -755.32940674,\n",
        "        -761.92956543, -755.43701172, -762.33007812, -761.10638428,\n",
        "        -757.92230225, -760.6986084 ],\n",
        "       [-765.1552124 , -766.17926025, -755.88909912, -759.83258057,\n",
        "        -756.28271484, -757.18011475, -759.75769043, -762.57617188,\n",
        "        -745.38964844, -755.67279053],\n",
        "       [-763.56280518, -758.04248047, -747.3815918 , -747.08624268,\n",
        "        -736.91760254, -752.02069092, -753.48187256, -739.95788574,\n",
        "        -747.82202148, -735.23840332],\n",
        "       [-761.60131836, -758.0043335 , -748.63787842, -759.45025635,\n",
        "        -748.71960449, -756.82897949, -734.13806152, -758.69274902,\n",
        "        -755.76538086, -753.83947754],\n",
        "       [-754.78387451, -761.11791992, -750.10754395, -754.11682129,\n",
        "        -740.66253662, -752.003479  , -750.17791748, -751.32415771,\n",
        "        -753.77148438, -743.22576904],\n",
        "       [-760.52593994, -724.42755127, -740.40460205, -743.44396973,\n",
        "        -746.05432129, -743.05249023, -745.45495605, -744.12988281,\n",
        "        -738.9239502 , -747.32794189],\n",
        "       [-752.15167236, -759.85272217, -752.10369873, -756.70959473,\n",
        "        -741.7701416 , -750.3036499 , -753.65161133, -743.57885742,\n",
        "        -743.40722656, -733.67181396],\n",
        "       [-755.54321289, -751.14324951, -750.47595215, -748.54968262,\n",
        "        -743.45397949, -744.46765137, -753.36529541, -744.42138672,\n",
        "        -746.75634766, -740.97802734],\n",
        "       [-744.70098877, -787.13061523, -771.33032227, -775.70544434,\n",
        "        -771.97503662, -771.11071777, -756.81347656, -765.5213623 ,\n",
        "        -769.99298096, -768.05810547],\n",
        "       [-759.90325928, -734.20983887, -744.42657471, -748.24005127,\n",
        "        -752.2098999 , -748.11663818, -744.86437988, -750.08996582,\n",
        "        -741.51696777, -748.6293335 ],\n",
        "       [-754.50073242, -748.07562256, -748.63165283, -742.99786377,\n",
        "        -752.82952881, -749.32250977, -754.14703369, -754.73913574,\n",
        "        -737.93078613, -752.6963501 ],\n",
        "       [-749.81317139, -786.67962646, -758.71386719, -753.46746826,\n",
        "        -763.93212891, -761.85949707, -767.62646484, -770.65600586,\n",
        "        -764.25378418, -766.73760986],\n",
        "       [-756.61590576, -740.58013916, -743.61444092, -746.56286621,\n",
        "        -742.2989502 , -743.35650635, -750.77093506, -734.94543457,\n",
        "        -742.48626709, -737.46136475],\n",
        "       [-747.89868164, -758.53521729, -750.87524414, -744.07061768,\n",
        "        -748.82788086, -744.10772705, -750.85827637, -755.73413086,\n",
        "        -735.82061768, -747.02929688],\n",
        "       [-757.56640625, -758.8949585 , -754.96368408, -750.47509766,\n",
        "        -748.11468506, -746.58691406, -759.94848633, -749.50671387,\n",
        "        -748.60443115, -747.47155762],\n",
        "       [-749.22509766, -763.48950195, -753.71954346, -742.24816895,\n",
        "        -759.26397705, -750.29620361, -757.89782715, -763.57501221,\n",
        "        -748.6484375 , -757.27288818],\n",
        "       [-762.86578369, -748.70581055, -750.25531006, -748.68493652,\n",
        "        -741.90692139, -749.44726562, -759.36523438, -732.90985107,\n",
        "        -749.00262451, -737.80047607],\n",
        "       [-740.09014893, -791.5100708 , -778.21380615, -775.5880127 ,\n",
        "        -784.41040039, -770.8883667 , -771.82196045, -776.31756592,\n",
        "        -775.68981934, -777.88366699],\n",
        "       [-762.61730957, -761.54522705, -749.1138916 , -732.65625   ,\n",
        "        -756.137146  , -749.11358643, -764.67041016, -758.203125  ,\n",
        "        -745.06622314, -756.93884277],\n",
        "       [-753.73553467, -765.08288574, -750.44934082, -763.60900879,\n",
        "        -752.46435547, -758.98205566, -735.02075195, -764.51660156,\n",
        "        -755.93548584, -757.51147461],\n",
        "       [-752.33850098, -761.64770508, -757.05944824, -752.48059082,\n",
        "        -750.76947021, -737.56121826, -758.20068359, -755.95135498,\n",
        "        -750.43652344, -748.77703857],\n",
        "       [-760.39282227, -776.09216309, -754.60083008, -753.01116943,\n",
        "        -768.37408447, -761.65936279, -769.36303711, -765.39099121,\n",
        "        -739.3894043 , -763.82006836],\n",
        "       [-767.72943115, -782.56726074, -740.87695312, -772.96789551,\n",
        "        -766.73028564, -775.30847168, -766.45428467, -781.83087158,\n",
        "        -770.60821533, -776.81854248],\n",
        "       [-753.83654785, -757.03082275, -750.54870605, -738.3526001 ,\n",
        "        -743.99316406, -742.5401001 , -757.74102783, -747.25897217,\n",
        "        -741.02539062, -743.55718994],\n",
        "       [-755.82116699, -759.89984131, -753.15643311, -759.69036865,\n",
        "        -731.15936279, -750.35180664, -751.42449951, -747.17803955,\n",
        "        -748.00738525, -740.58966064],\n",
        "       [-760.57824707, -753.45666504, -747.38482666, -742.07403564,\n",
        "        -748.90478516, -744.32391357, -752.40686035, -747.78869629,\n",
        "        -733.26348877, -744.01019287],\n",
        "       [-748.42358398, -755.49676514, -750.68829346, -743.56060791,\n",
        "        -745.47033691, -739.875     , -750.82525635, -752.86804199,\n",
        "        -742.69836426, -745.27722168],\n",
        "       [-755.13934326, -781.98986816, -767.15637207, -760.27789307,\n",
        "        -768.46295166, -756.59637451, -759.8394165 , -763.11132812,\n",
        "        -758.10308838, -758.60296631],\n",
        "       [-741.04907227, -790.86071777, -762.63531494, -761.9397583 ,\n",
        "        -772.25909424, -759.94824219, -752.95831299, -773.6416626 ,\n",
        "        -762.29602051, -766.9362793 ],\n",
        "       [-765.19250488, -758.83166504, -759.41125488, -758.14770508,\n",
        "        -748.95623779, -750.52758789, -764.25531006, -736.10418701,\n",
        "        -755.61254883, -747.31463623],\n",
        "       [-763.51593018, -759.25079346, -746.99993896, -755.89215088,\n",
        "        -756.40106201, -754.15185547, -760.32385254, -754.7434082 ,\n",
        "        -748.57287598, -756.1463623 ],\n",
        "       [-755.94378662, -748.92773438, -746.72772217, -749.09771729,\n",
        "        -746.39361572, -731.81689453, -745.82080078, -750.25378418,\n",
        "        -748.56121826, -748.24719238],\n",
        "       [-750.55340576, -754.73760986, -748.58892822, -745.76239014,\n",
        "        -732.7387085 , -745.01885986, -747.59387207, -743.02441406,\n",
        "        -743.50622559, -737.00445557],\n",
        "       [-741.58227539, -805.53790283, -779.35931396, -778.62481689,\n",
        "        -782.25823975, -769.3293457 , -773.41247559, -785.89093018,\n",
        "        -775.29260254, -782.10443115],\n",
        "       [-749.43475342, -752.51013184, -748.58691406, -752.17407227,\n",
        "        -753.58612061, -748.69525146, -733.38446045, -757.56140137,\n",
        "        -750.95544434, -755.14160156],\n",
        "       [-753.70269775, -757.82733154, -751.5803833 , -747.0970459 ,\n",
        "        -748.9317627 , -744.47576904, -754.75262451, -754.3416748 ,\n",
        "        -743.9375    , -747.50439453],\n",
        "       [-748.1786499 , -749.27154541, -742.18426514, -747.10601807,\n",
        "        -743.78503418, -743.7277832 , -738.50408936, -749.74298096,\n",
        "        -744.7901001 , -745.73150635]], dtype=float32)"
       ]
      }
     ],
     "prompt_number": 9
    },
    {
     "cell_type": "code",
     "collapsed": false,
     "input": [
      "import amitgroup.plot as gr\n",
      "%matplotlib inline\n",
      "for i in range(10):\n",
      "    gr.images(lasagne.layers.get_all_param_values(network)[0][i].reshape(5,28,28))\n",
      "#np.save(\"../data/gaussianDigits.npy\", learnedWeights) "
     ],
     "language": "python",
     "metadata": {},
     "outputs": [
      {
       "metadata": {},
       "output_type": "display_data",
       "png": "[encoded data removed]",
       "text": [
        "<matplotlib.figure.Figure at 0x11ff7cfd0>"
       ]
      },
      {
       "metadata": {},
       "output_type": "display_data",
       "png": "[encoded data removed]",
       "text": [
        "<matplotlib.figure.Figure at 0x120197dd0>"
       ]
      },
      {
       "metadata": {},
       "output_type": "display_data",
       "png": "[encoded data removed]",
       "text": [
        "<matplotlib.figure.Figure at 0x120778910>"
       ]
      },
      {
       "metadata": {},
       "output_type": "display_data",
       "png": "[encoded data removed]",
       "text": [
        "<matplotlib.figure.Figure at 0x120cac7d0>"
       ]
      },
      {
       "metadata": {},
       "output_type": "display_data",
       "png": "[encoded data removed]",
       "text": [
        "<matplotlib.figure.Figure at 0x13423a950>"
       ]
      },
      {
       "metadata": {},
       "output_type": "display_data",
       "png": "[encoded data removed]",
       "text": [
        "<matplotlib.figure.Figure at 0x13422e750>"
       ]
      },
      {
       "metadata": {},
       "output_type": "display_data",
       "png": "[encoded data removed]",
       "text": [
        "<matplotlib.figure.Figure at 0x132cb7590>"
       ]
      },
      {
       "metadata": {},
       "output_type": "display_data",
       "png": "[encoded data removed]",
       "text": [
        "<matplotlib.figure.Figure at 0x11ffe6150>"
       ]
      },
      {
       "metadata": {},
       "output_type": "display_data",
       "png": "[encoded data removed]",
       "text": [
        "<matplotlib.figure.Figure at 0x120199150>"
       ]
      },
      {
       "metadata": {},
       "output_type": "display_data",
       "png": "[encoded data removed]",
       "text": [
        "<matplotlib.figure.Figure at 0x12070a590>"
       ]
      }
     ],
     "prompt_number": 4
    },
    {
     "cell_type": "code",
     "collapsed": false,
     "input": [
      "lasagne.layers.get_all_param_values(network)[0][0]"
     ],
     "language": "python",
     "metadata": {},
     "outputs": [
      {
       "metadata": {},
       "output_type": "pyout",
       "prompt_number": 6,
       "text": [
        "array([[ -1.92090734e-08,  -6.70451641e-08,   6.10700113e-08, ...,\n",
        "         -1.74590099e-07,  -9.03420201e-08,   4.72382169e-08],\n",
        "       [  1.80713944e-02,  -3.22272233e-03,   1.59824360e-02, ...,\n",
        "          7.66745245e-04,  -1.13041941e-02,  -7.83160143e-03],\n",
        "       [ -1.39464010e-02,  -2.38185195e-04,  -2.21952540e-03, ...,\n",
        "          5.31593058e-03,   4.11872810e-04,  -4.98769199e-03],\n",
        "       [ -1.64153744e-02,   1.32825843e-03,  -8.07872973e-03, ...,\n",
        "          1.18604694e-02,  -2.60277977e-03,   4.55988804e-03],\n",
        "       [  1.66543294e-02,   1.66674145e-02,   1.00882472e-02, ...,\n",
        "         -1.97467245e-02,  -8.42260011e-03,   5.72868250e-03]], dtype=float32)"
       ]
      }
     ],
     "prompt_number": 6
    },
    {
     "cell_type": "code",
     "collapsed": false,
     "input": [],
     "language": "python",
     "metadata": {},
     "outputs": []
    }
   ],
   "metadata": {}
  }
 ]
}