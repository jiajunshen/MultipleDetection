{
 "metadata": {
  "name": "",
  "signature": "sha256:1743f3d66e9b1e45cc8c2bc3f4abdcbee63b2d3ac87d7111cd2b9e7374f85316"
 },
 "nbformat": 3,
 "nbformat_minor": 0,
 "worksheets": [
  {
   "cells": [
    {
     "cell_type": "code",
     "collapsed": false,
     "input": [
      "%load_ext autoreload\n",
      "\n",
      "%autoreload 2"
     ],
     "language": "python",
     "metadata": {},
     "outputs": [],
     "prompt_number": 1
    },
    {
     "cell_type": "code",
     "collapsed": false,
     "input": [
      "import os"
     ],
     "language": "python",
     "metadata": {},
     "outputs": [],
     "prompt_number": 2
    },
    {
     "cell_type": "code",
     "collapsed": false,
     "input": [
      "os.chdir('/Users/jiajunshen/Documents/Research/recurrent-spatial-transformer-code/cnnDetection/MultipleDetection/src/')"
     ],
     "language": "python",
     "metadata": {},
     "outputs": [],
     "prompt_number": 3
    },
    {
     "cell_type": "code",
     "collapsed": false,
     "input": [
      "from buildLikelihoodDetector import *"
     ],
     "language": "python",
     "metadata": {},
     "outputs": [
      {
       "output_type": "stream",
       "stream": "stderr",
       "text": [
        "Using gpu device 0: GeForce GT 650M (CNMeM is disabled)\n",
        "/Users/jiajunshen/Library/Enthought/Canopy_64bit/User/lib/python2.7/site-packages/matplotlib/__init__.py:1318: UserWarning:  This call to matplotlib.use() has no effect\n",
        "because the backend has already been chosen;\n",
        "matplotlib.use() must be called *before* pylab, matplotlib.pyplot,\n",
        "or matplotlib.backends is imported for the first time.\n",
        "\n",
        "  warnings.warn(_use_error_msg)\n"
       ]
      }
     ],
     "prompt_number": 4
    },
    {
     "cell_type": "code",
     "collapsed": false,
     "input": [
      "from CNNForMnist import build_cnn, load_data\n",
      "from convolutionAutoEncoder import build_autoencoder\n",
      "import pnet\n",
      "import amitgroup.plot as gr"
     ],
     "language": "python",
     "metadata": {},
     "outputs": [],
     "prompt_number": 5
    },
    {
     "cell_type": "code",
     "collapsed": false,
     "input": [
      "print(\"load data...\")\n",
      "X_train, y_train, X_test, y_test = load_data(\"/X_train.npy\", \"/Y_train.npy\", \"/X_test.npy\", \"/Y_test.npy\")\n",
      "print(\"bulding function...\")\n",
      "#extract_function = encoder_extraction(extraction_layer = 6, weights_file = \"../data/mnist_autoencoder_params_encoder_linear_decoder_no_bias.npy\")\n",
      "extract_function = encoder_extraction()\n",
      "print(\"feature extraction...\")\n",
      "X_train_feature = extract(X_train, extract_function)\n",
      "X_test_feature = extract(X_test, extract_function)\n",
      "print(X_train_feature.shape)\n",
      "print(X_test_feature.shape)"
     ],
     "language": "python",
     "metadata": {},
     "outputs": [
      {
       "output_type": "stream",
       "stream": "stdout",
       "text": [
        "load data...\n",
        "bulding function..."
       ]
      },
      {
       "output_type": "stream",
       "stream": "stdout",
       "text": [
        "\n",
        "[<lasagne.layers.input.InputLayer object at 0x11fa3e810>, <lasagne.layers.dnn.Conv2DDNNLayer object at 0x11fa3e7d0>, <lasagne.layers.dnn.MaxPool2DDNNLayer object at 0x11fa3e790>, <lasagne.layers.dnn.Conv2DDNNLayer object at 0x11fa51b50>, <lasagne.layers.pool.MaxPool2DLayer object at 0x107a36fd0>, <lasagne.layers.noise.DropoutLayer object at 0x11fa51b90>, <lasagne.layers.dense.DenseLayer object at 0x11fa51e50>, <lasagne.layers.noise.DropoutLayer object at 0x11fa51dd0>, <lasagne.layers.dense.DenseLayer object at 0x11fa5c510>]\n",
        "feature extraction..."
       ]
      },
      {
       "output_type": "stream",
       "stream": "stdout",
       "text": [
        "\n",
        "(60000, 256)"
       ]
      },
      {
       "output_type": "stream",
       "stream": "stdout",
       "text": [
        "\n",
        "(10000, 256)\n"
       ]
      }
     ],
     "prompt_number": 6
    },
    {
     "cell_type": "code",
     "collapsed": false,
     "input": [
      "print(\"train llh model...\")\n",
      "objectModelLayer = pnet.MixtureClassificationLayer(n_components = 5, min_prob = 0.0001, mixture_type = \"gaussian\")\n",
      "objectModelLayer.train(X_train_feature, y_train)"
     ],
     "language": "python",
     "metadata": {},
     "outputs": [
      {
       "output_type": "stream",
       "stream": "stdout",
       "text": [
        "train llh model...\n"
       ]
      }
     ],
     "prompt_number": 7
    },
    {
     "cell_type": "code",
     "collapsed": false,
     "input": [
      "X_train.shape"
     ],
     "language": "python",
     "metadata": {},
     "outputs": [
      {
       "metadata": {},
       "output_type": "pyout",
       "prompt_number": 8,
       "text": [
        "(60000, 1, 28, 28)"
       ]
      }
     ],
     "prompt_number": 8
    },
    {
     "cell_type": "code",
     "collapsed": false,
     "input": [
      "fullGridObjectModel = pnet.PartsNet([pnet.MixtureClassificationLayer(n_components=5, min_prob=0.0001, mixture_type = \"gaussian\")])\n",
      "#fullGridObjectModel = pnet.MixtureClassificationLayer(n_components=5, min_prob = 0.0001, mixture_type = \"gaussian\")\n",
      "fullGridObjectModel.train(X_train, y_train)"
     ],
     "language": "python",
     "metadata": {},
     "outputs": [
      {
       "output_type": "stream",
       "stream": "stdout",
       "text": [
        "<pnet.mixture_classification_layer.MixtureClassificationLayer object at 0x125dd6f10>\n",
        "False\n",
        "<pnet.mixture_classification_layer.MixtureClassificationLayer object at 0x125dd6f10>"
       ]
      },
      {
       "output_type": "stream",
       "stream": "stdout",
       "text": [
        "\n",
        "()"
       ]
      },
      {
       "output_type": "stream",
       "stream": "stdout",
       "text": [
        "\n"
       ]
      }
     ],
     "prompt_number": 9
    },
    {
     "cell_type": "code",
     "collapsed": false,
     "input": [
      "np.mean(fullGridObjectModel.classify(X_test) == y_test)"
     ],
     "language": "python",
     "metadata": {},
     "outputs": [
      {
       "metadata": {},
       "output_type": "pyout",
       "prompt_number": 10,
       "text": [
        "0.86070000000000002"
       ]
      }
     ],
     "prompt_number": 10
    },
    {
     "cell_type": "code",
     "collapsed": false,
     "input": [
      "data = createSampleTest(nSample=2)\n",
      "result_data = data[0] + data[1]\n",
      "print(result_data.shape)\n",
      "gr.images(data[0] + data[1])"
     ],
     "language": "python",
     "metadata": {},
     "outputs": [
      {
       "output_type": "stream",
       "stream": "stdout",
       "text": [
        "(40, 40)\n"
       ]
      },
      {
       "metadata": {},
       "output_type": "display_data",
       "png": "[encoded data removed]",
       "text": [
        "<matplotlib.figure.Figure at 0x14150a390>"
       ]
      }
     ],
     "prompt_number": 71
    },
    {
     "cell_type": "code",
     "collapsed": false,
     "input": [
      "frontSupport = np.array(data[0])\n",
      "frontSupport[frontSupport > 0] = 1\n",
      "frontSupport = 1 - frontSupport\n",
      "investigateData = data[0] + frontSupport * data[1]"
     ],
     "language": "python",
     "metadata": {},
     "outputs": [],
     "prompt_number": 72
    },
    {
     "cell_type": "code",
     "collapsed": false,
     "input": [
      "gr.images(investigateData)"
     ],
     "language": "python",
     "metadata": {},
     "outputs": [
      {
       "metadata": {},
       "output_type": "display_data",
       "png": "[encoded data removed]",
       "text": [
        "<matplotlib.figure.Figure at 0x1414f3fd0>"
       ]
      }
     ],
     "prompt_number": 73
    },
    {
     "cell_type": "code",
     "collapsed": false,
     "input": [
      "import matplotlib.pylab as plt\n",
      "plt.imshow(np.max(llh_for_data, axis = -1)[0], vmin = -20)"
     ],
     "language": "python",
     "metadata": {},
     "outputs": [
      {
       "metadata": {},
       "output_type": "pyout",
       "prompt_number": 77,
       "text": [
        "<matplotlib.image.AxesImage at 0x12ccb8290>"
       ]
      },
      {
       "metadata": {},
       "output_type": "display_data",
       "png": "[encoded data removed]",
       "text": [
        "<matplotlib.figure.Figure at 0x127302bd0>"
       ]
      }
     ],
     "prompt_number": 77
    },
    {
     "cell_type": "code",
     "collapsed": false,
     "input": [
      "    \n",
      "\n",
      "#print(\"object model classification accuracy: \", np.mean(objectModelLayer.extract(X_test_feature) == y_test))\n",
      "\n",
      "#data = createSampleTest(nSample = 1)\n",
      "#data = result_data.reshape((1,40,40))\n",
      "data = investigateData.reshape(1, 40, 40)\n",
      "\n",
      "processedData = reprocess_data_for_extraction(data)\n",
      "processedData_reshape = processedData.reshape(-1, 1, 28, 28)"
     ],
     "language": "python",
     "metadata": {},
     "outputs": [],
     "prompt_number": 74
    },
    {
     "cell_type": "code",
     "collapsed": false,
     "input": [
      "processedData_reshape_feature = extract_function(np.array(processedData_reshape,dtype = np.float32))"
     ],
     "language": "python",
     "metadata": {},
     "outputs": [],
     "prompt_number": 75
    },
    {
     "cell_type": "code",
     "collapsed": false,
     "input": [
      "llh_for_data = objectModelLayer.score(processedData_reshape_feature).reshape(processedData.shape[:3] + (10, ))\n",
      "print llh_for_data.shape\n",
      "print(np.max(llh_for_data, axis = -1))\n",
      "print(np.argmax(llh_for_data, axis = -1))\n",
      "print(np.argmax(llh_for_data, axis = -1)[nonMaximalSupress(np.max(llh_for_data, axis = -1), windowSize = 5) != INT_MIN])\n",
      "print (y_train[:1])"
     ],
     "language": "python",
     "metadata": {},
     "outputs": [
      {
       "output_type": "stream",
       "stream": "stdout",
       "text": [
        "(1, 13, 13, 10)\n",
        "[[[ -2.52491684e+02  -2.40400123e+02   2.77151359e+01   1.02641216e+02\n",
        "     1.05678547e+02   9.70945384e+01   7.02992762e+00  -1.11363573e+02\n",
        "    -4.09811423e+01  -8.67524921e+01  -2.70380846e+02  -3.47204401e+02\n",
        "    -1.67911177e+02]\n",
        "  [  1.87039920e+00  -4.84278635e+01   5.15511301e+01   1.04362328e+02\n",
        "     1.51880057e+02   5.82372879e+01  -1.78249353e+01  -1.24017636e+02\n",
        "    -7.47747665e+01  -8.59628995e+01  -3.31505690e+02  -3.06654472e+02\n",
        "    -2.70648925e+02]\n",
        "  [  7.35931169e+01   1.50520829e+01   3.10899557e+01   5.71322520e+01\n",
        "     3.76846474e+01  -1.06873977e+01  -8.48615999e+01  -1.96810515e+02\n",
        "    -8.76902402e+01  -1.06361632e+02  -9.07458094e+01  -1.68495198e+02\n",
        "    -1.40095998e+02]\n",
        "  [  6.41309811e+01  -4.14617668e+01  -6.45621974e+01  -3.73982173e+01\n",
        "    -3.65281986e+01  -7.08020873e+01  -1.13493164e+02  -1.35715232e+02\n",
        "    -2.94857197e+01  -7.41714353e+01  -5.16910879e+01  -9.44264817e+01\n",
        "    -3.42260559e+01]\n",
        "  [  8.60866756e+01  -6.03105013e+01  -1.66756706e+02  -1.76430005e+02\n",
        "    -1.27591250e+02  -1.89796262e+02  -1.74253487e+02  -5.30543222e+01\n",
        "    -5.31779327e+00  -2.66880024e-01   6.62104919e+00   6.79418958e+01\n",
        "     1.08434544e+02]\n",
        "  [  7.91749696e+00  -2.59014485e+02  -4.01946682e+02  -1.24731090e+02\n",
        "    -7.99168308e+01  -2.25409185e+02  -6.81040805e+01  -1.60067300e+00\n",
        "     5.86486851e+01   4.80407038e+01   4.14118320e+01   1.04452466e+02\n",
        "     1.08251086e+02]\n",
        "  [ -7.56654316e+01  -3.30529356e+02  -4.36039833e+02  -2.66670298e+02\n",
        "    -2.06731477e+02  -1.58052288e+02  -8.34973312e+01  -8.40212078e+00\n",
        "     1.33102395e+01   3.75912418e+01   8.41353497e+01   4.21460242e+01\n",
        "     2.16676829e+01]\n",
        "  [ -1.37663642e+02  -2.55697762e+02  -2.31177508e+02  -3.42519000e+02\n",
        "    -2.02194936e+02  -6.54110349e+01  -1.18738947e+02  -1.24621045e+01\n",
        "    -3.83894755e+01  -5.24753851e+01  -2.30649252e+01  -6.00945257e+01\n",
        "    -8.38535836e+01]\n",
        "  [ -7.93435623e+01  -9.60973824e+01  -2.07393479e+02  -4.03911556e+02\n",
        "    -2.52550662e+02  -1.56666993e+02  -1.49785668e+02  -1.02653236e+02\n",
        "    -1.04990169e+02  -7.85109474e+01  -1.13458432e+02  -1.51150890e+02\n",
        "    -1.50349896e+02]\n",
        "  [ -1.44525406e+02  -2.17851614e+02  -2.50377687e+02  -3.89119990e+02\n",
        "    -2.11418139e+02  -1.91772595e+02  -1.43654378e+02  -1.58471174e+00\n",
        "    -1.15252692e+02  -1.71642974e+02  -1.77137917e+02  -1.41941456e+02\n",
        "    -1.28094349e+02]\n",
        "  [ -1.00127773e+02  -1.38719471e+02  -1.23935550e+02  -2.21741838e+02\n",
        "    -2.53824254e+02  -1.02238398e+02  -4.39994300e+01  -1.80026166e+01\n",
        "    -3.46141520e+01  -1.05449711e+02  -2.08882658e+02  -2.21571295e+02\n",
        "    -3.05550228e+02]\n",
        "  [ -2.08346231e+02  -2.34361908e+02  -1.52898982e+02  -9.62584045e+01\n",
        "    -1.19486068e+02  -1.34195089e+02  -1.79702787e+02  -1.10492788e+02\n",
        "    -6.97743479e+01  -7.47819926e+01  -1.12991517e+02  -1.57764950e+02\n",
        "    -3.55353115e+02]\n",
        "  [ -2.09177161e+02  -2.54181553e+02  -2.39963656e+02  -1.73927572e+02\n",
        "    -1.29790110e+02  -2.08153650e+02  -1.98778237e+02  -7.34243868e+01\n",
        "    -2.95810252e+01  -2.23091946e+01  -8.12478352e+01  -1.19774131e+02\n",
        "    -1.87804453e+02]]]\n",
        "[[[6 0 0 0 0 0 0 8 8 8 8 8 5]\n",
        "  [6 6 0 0 0 0 0 8 8 8 5 8 5]\n",
        "  [6 6 0 0 0 0 0 5 5 3 5 5 5]\n",
        "  [6 6 0 0 0 9 0 5 5 3 5 5 5]\n",
        "  [6 6 0 9 9 9 9 5 5 5 5 5 5]\n",
        "  [6 6 9 9 9 9 5 5 5 5 5 5 5]\n",
        "  [6 5 9 9 9 9 5 5 5 5 5 5 5]\n",
        "  [5 5 5 9 9 9 9 9 9 5 3 3 3]\n",
        "  [5 5 5 9 9 9 9 9 5 5 3 3 3]\n",
        "  [5 5 5 5 9 9 9 9 9 9 3 3 3]\n",
        "  [5 5 5 5 2 2 9 9 9 3 3 3 9]\n",
        "  [5 5 2 2 2 2 9 3 3 3 3 3 3]\n",
        "  [5 2 2 2 2 3 3 3 3 3 3 3 3]]]\n",
        "[0 5 6 9 3]\n",
        "[5]\n"
       ]
      }
     ],
     "prompt_number": 76
    },
    {
     "cell_type": "code",
     "collapsed": false,
     "input": [
      "np.argmax(llh_for_data, axis = -1).shape"
     ],
     "language": "python",
     "metadata": {},
     "outputs": [
      {
       "metadata": {},
       "output_type": "pyout",
       "prompt_number": 47,
       "text": [
        "(1, 13, 13)"
       ]
      }
     ],
     "prompt_number": 47
    },
    {
     "cell_type": "code",
     "collapsed": false,
     "input": [
      "INT_MIN = -10000000\n",
      "candidate_criterior = nonMaximalSupress(np.max(llh_for_data, axis = -1), windowSize = 5)!= INT_MIN\n",
      "candidate_location = np.array(np.where(candidate_criterior))"
     ],
     "language": "python",
     "metadata": {},
     "outputs": [],
     "prompt_number": 78
    },
    {
     "cell_type": "code",
     "collapsed": false,
     "input": [
      "candidate_class = np.argmax(llh_for_data, axis = -1)[candidate_criterior]"
     ],
     "language": "python",
     "metadata": {},
     "outputs": [],
     "prompt_number": 79
    },
    {
     "cell_type": "code",
     "collapsed": false,
     "input": [
      "candidate_class"
     ],
     "language": "python",
     "metadata": {},
     "outputs": [
      {
       "metadata": {},
       "output_type": "pyout",
       "prompt_number": 80,
       "text": [
        "array([0, 5, 6, 9, 3])"
       ]
      }
     ],
     "prompt_number": 80
    },
    {
     "cell_type": "code",
     "collapsed": false,
     "input": [
      "candidate_location"
     ],
     "language": "python",
     "metadata": {},
     "outputs": [
      {
       "metadata": {},
       "output_type": "pyout",
       "prompt_number": 81,
       "text": [
        "array([[ 0,  0,  0,  0,  0],\n",
        "       [ 1,  4,  6,  9,  9],\n",
        "       [ 4, 12,  0,  7, 12]])"
       ]
      }
     ],
     "prompt_number": 81
    },
    {
     "cell_type": "code",
     "collapsed": false,
     "input": [
      "candidateOrder"
     ],
     "language": "python",
     "metadata": {},
     "outputs": [
      {
       "metadata": {},
       "output_type": "pyout",
       "prompt_number": 82,
       "text": [
        "array([1, 0])"
       ]
      }
     ],
     "prompt_number": 82
    },
    {
     "cell_type": "code",
     "collapsed": false,
     "input": [
      "np.array(candidate_location)"
     ],
     "language": "python",
     "metadata": {},
     "outputs": [
      {
       "metadata": {},
       "output_type": "pyout",
       "prompt_number": 83,
       "text": [
        "array([[ 0,  0,  0,  0,  0],\n",
        "       [ 1,  4,  6,  9,  9],\n",
        "       [ 4, 12,  0,  7, 12]])"
       ]
      }
     ],
     "prompt_number": 83
    },
    {
     "cell_type": "code",
     "collapsed": false,
     "input": [
      "candidateLLH = np.max(llh_for_data, axis = -1)[candidate_criterior]\n",
      "candidateOrder = np.argsort(candidateLLH)[::-1]\n",
      "orderedCandidates = [(candidate_class[i], candidate_location[1:,i]) for i in candidateOrder]"
     ],
     "language": "python",
     "metadata": {},
     "outputs": [],
     "prompt_number": 84
    },
    {
     "cell_type": "code",
     "collapsed": false,
     "input": [
      "candidateLLH"
     ],
     "language": "python",
     "metadata": {},
     "outputs": [
      {
       "metadata": {},
       "output_type": "pyout",
       "prompt_number": 85,
       "text": [
        "array([ 151.8800569 ,  108.434544  ,  -75.66543164,   -1.58471174,\n",
        "       -128.09434946])"
       ]
      }
     ],
     "prompt_number": 85
    },
    {
     "cell_type": "code",
     "collapsed": false,
     "input": [
      "orderedCandidates"
     ],
     "language": "python",
     "metadata": {},
     "outputs": [
      {
       "metadata": {},
       "output_type": "pyout",
       "prompt_number": 86,
       "text": [
        "[(0, array([1, 4])),\n",
        " (5, array([ 4, 12])),\n",
        " (9, array([9, 7])),\n",
        " (6, array([6, 0])),\n",
        " (3, array([ 9, 12]))]"
       ]
      }
     ],
     "prompt_number": 86
    },
    {
     "cell_type": "code",
     "collapsed": false,
     "input": [
      "import sklearn\n",
      "from sklearn.mixture.gmm import *"
     ],
     "language": "python",
     "metadata": {},
     "outputs": [],
     "prompt_number": 87
    },
    {
     "cell_type": "code",
     "collapsed": false,
     "input": [
      "fullGridObjectModel.layers[0]._modelinstance[0]"
     ],
     "language": "python",
     "metadata": {},
     "outputs": [
      {
       "metadata": {},
       "output_type": "pyout",
       "prompt_number": 88,
       "text": [
        "GMM(covariance_type='diag', init_params='wmc', min_covar=0.001,\n",
        "  n_components=5, n_init=1, n_iter=20, params='wmc', random_state=0,\n",
        "  thresh=None, tol=0.001, verbose=0)"
       ]
      }
     ],
     "prompt_number": 88
    },
    {
     "cell_type": "code",
     "collapsed": false,
     "input": [
      "fullGridObjectModel.layers[0]._modelinstance[0].covars_[0]"
     ],
     "language": "python",
     "metadata": {},
     "outputs": [
      {
       "metadata": {},
       "output_type": "pyout",
       "prompt_number": 89,
       "text": [
        "array([ 0.001     ,  0.001     ,  0.001     ,  0.001     ,  0.001     ,\n",
        "        0.001     ,  0.001     ,  0.001     ,  0.001     ,  0.001     ,\n",
        "        0.001     ,  0.001     ,  0.001     ,  0.001     ,  0.001     ,\n",
        "        0.001     ,  0.001     ,  0.001     ,  0.001     ,  0.001     ,\n",
        "        0.001     ,  0.001     ,  0.001     ,  0.001     ,  0.001     ,\n",
        "        0.001     ,  0.001     ,  0.001     ,  0.001     ,  0.001     ,\n",
        "        0.001     ,  0.001     ,  0.001     ,  0.001     ,  0.001     ,\n",
        "        0.001     ,  0.001     ,  0.001     ,  0.001     ,  0.001     ,\n",
        "        0.001     ,  0.001     ,  0.001     ,  0.001     ,  0.001     ,\n",
        "        0.001     ,  0.001     ,  0.001     ,  0.001     ,  0.001     ,\n",
        "        0.001     ,  0.001     ,  0.001     ,  0.001     ,  0.001     ,\n",
        "        0.001     ,  0.001     ,  0.001     ,  0.001     ,  0.001     ,\n",
        "        0.001     ,  0.001     ,  0.001     ,  0.001     ,  0.001     ,\n",
        "        0.001     ,  0.001     ,  0.001     ,  0.001     ,  0.001     ,\n",
        "        0.001     ,  0.001     ,  0.001     ,  0.001     ,  0.001     ,\n",
        "        0.001     ,  0.001     ,  0.001     ,  0.001     ,  0.001     ,\n",
        "        0.001     ,  0.001     ,  0.001     ,  0.001     ,  0.001     ,\n",
        "        0.001     ,  0.001     ,  0.001     ,  0.001     ,  0.001     ,\n",
        "        0.001     ,  0.00107686,  0.0032774 ,  0.00526172,  0.00842632,\n",
        "        0.01781293,  0.02083694,  0.0204362 ,  0.01429317,  0.00827344,\n",
        "        0.00456654,  0.0047552 ,  0.0017833 ,  0.00109912,  0.00100055,\n",
        "        0.001     ,  0.001     ,  0.001     ,  0.001     ,  0.001     ,\n",
        "        0.001     ,  0.001     ,  0.001     ,  0.001     ,  0.001     ,\n",
        "        0.001     ,  0.001     ,  0.0014205 ,  0.00325113,  0.01119191,\n",
        "        0.03080879,  0.06204749,  0.08668949,  0.1175081 ,  0.1211145 ,\n",
        "        0.13272112,  0.12318606,  0.10773332,  0.08943001,  0.06565964,\n",
        "        0.04331137,  0.02021753,  0.00632209,  0.00148423,  0.00132334,\n",
        "        0.00130745,  0.00106516,  0.001     ,  0.001     ,  0.001     ,\n",
        "        0.001     ,  0.001     ,  0.001     ,  0.001     ,  0.0016601 ,\n",
        "        0.00216533,  0.01676022,  0.04004108,  0.083449  ,  0.14270323,\n",
        "        0.1749041 ,  0.1832685 ,  0.18130799,  0.18530293,  0.18514284,\n",
        "        0.18405151,  0.17819825,  0.1620198 ,  0.12926521,  0.08749877,\n",
        "        0.04006123,  0.0133804 ,  0.00480459,  0.00162309,  0.00141202,\n",
        "        0.001     ,  0.001     ,  0.001     ,  0.001     ,  0.001     ,\n",
        "        0.001     ,  0.001     ,  0.00369935,  0.01732638,  0.04318058,\n",
        "        0.09055736,  0.15998075,  0.19046094,  0.18333434,  0.16635762,\n",
        "        0.15764799,  0.15394947,  0.14794058,  0.14875788,  0.15505257,\n",
        "        0.16854259,  0.18206971,  0.16149345,  0.12063039,  0.05730067,\n",
        "        0.02088721,  0.00435198,  0.00176157,  0.001     ,  0.001     ,\n",
        "        0.001     ,  0.001     ,  0.001     ,  0.001     ,  0.001     ,\n",
        "        0.00262024,  0.02656663,  0.07049532,  0.15449802,  0.19036033,\n",
        "        0.16756625,  0.14663856,  0.13895134,  0.14613944,  0.14919678,\n",
        "        0.14302504,  0.13755155,  0.13117034,  0.13124653,  0.14802551,\n",
        "        0.17672291,  0.16933962,  0.12349487,  0.06141916,  0.01845383,\n",
        "        0.00366647,  0.00100302,  0.001     ,  0.001     ,  0.001     ,\n",
        "        0.001     ,  0.001     ,  0.00113091,  0.0048064 ,  0.03719852,\n",
        "        0.11801888,  0.18843425,  0.16965268,  0.14368512,  0.14663335,\n",
        "        0.17081303,  0.18259462,  0.18662718,  0.18436891,  0.17787567,\n",
        "        0.16622539,  0.15000154,  0.1343101 ,  0.14366026,  0.17225032,\n",
        "        0.1667195 ,  0.11001519,  0.04805043,  0.00913625,  0.00145742,\n",
        "        0.001     ,  0.001     ,  0.001     ,  0.001     ,  0.0010161 ,\n",
        "        0.00243648,  0.0100638 ,  0.05780559,  0.16113886,  0.17797952,\n",
        "        0.13911482,  0.14415412,  0.17681584,  0.20214464,  0.20491394,\n",
        "        0.20672464,  0.20581356,  0.19904056,  0.19371744,  0.18875645,\n",
        "        0.16836308,  0.14319136,  0.14289122,  0.17366051,  0.15549573,\n",
        "        0.08300096,  0.01989348,  0.0034356 ,  0.001     ,  0.001     ,\n",
        "        0.001     ,  0.001     ,  0.00142662,  0.00153995,  0.01615003,\n",
        "        0.09880319,  0.18357899,  0.15167954,  0.13114345,  0.16941196,\n",
        "        0.19984602,  0.20482655,  0.20344391,  0.18967106,  0.17773451,\n",
        "        0.17372551,  0.1797466 ,  0.18582546,  0.19742445,  0.17508742,\n",
        "        0.14242446,  0.15290007,  0.17717577,  0.1215205 ,  0.03772388,\n",
        "        0.00650433,  0.001     ,  0.001     ,  0.001     ,  0.001     ,\n",
        "        0.001     ,  0.00242454,  0.03211375,  0.13258768,  0.18374925,\n",
        "        0.13453991,  0.14064179,  0.19276789,  0.20004981,  0.19406976,\n",
        "        0.17215782,  0.15502423,  0.13819453,  0.13267068,  0.13829997,\n",
        "        0.15616641,  0.17873476,  0.19667564,  0.1720388 ,  0.13880021,\n",
        "        0.16335916,  0.15931558,  0.0664838 ,  0.01080401,  0.001     ,\n",
        "        0.001     ,  0.001     ,  0.001     ,  0.001     ,  0.00243578,\n",
        "        0.0406784 ,  0.15354967,  0.17477855,  0.12414376,  0.16298176,\n",
        "        0.20173305,  0.19504067,  0.16583886,  0.14027362,  0.11893752,\n",
        "        0.09372179,  0.09075953,  0.10002972,  0.11392082,  0.14855489,\n",
        "        0.18716588,  0.19120155,  0.14977624,  0.14583961,  0.17648862,\n",
        "        0.0965575 ,  0.01561114,  0.001     ,  0.001     ,  0.001     ,\n",
        "        0.001     ,  0.001     ,  0.00212778,  0.0475354 ,  0.17361433,\n",
        "        0.15992907,  0.1190345 ,  0.17273725,  0.19833291,  0.17007992,\n",
        "        0.13544424,  0.10168586,  0.07525359,  0.06401509,  0.06080622,\n",
        "        0.0658685 ,  0.0805106 ,  0.1237939 ,  0.17013248,  0.19215079,\n",
        "        0.1678209 ,  0.13688984,  0.17230585,  0.1263779 ,  0.0235827 ,\n",
        "        0.001     ,  0.001     ,  0.001     ,  0.001     ,  0.001     ,\n",
        "        0.001     ,  0.05254991,  0.17679513,  0.15164107,  0.11483749,\n",
        "        0.17762448,  0.19312257,  0.15067085,  0.10947282,  0.0786751 ,\n",
        "        0.05165869,  0.04064971,  0.03758757,  0.03780649,  0.0564393 ,\n",
        "        0.11672403,  0.1593895 ,  0.19249198,  0.17741739,  0.14281295,\n",
        "        0.16505262,  0.15474641,  0.02873801,  0.001     ,  0.001     ,\n",
        "        0.001     ,  0.001     ,  0.001     ,  0.001     ,  0.05474017,\n",
        "        0.17730665,  0.15311539,  0.10872775,  0.17134192,  0.18825024,\n",
        "        0.14649047,  0.09270698,  0.05997397,  0.03720903,  0.02692722,\n",
        "        0.0269142 ,  0.03196541,  0.05905319,  0.11180197,  0.15612922,\n",
        "        0.19204496,  0.18264057,  0.1421897 ,  0.16204442,  0.16124908,\n",
        "        0.0221548 ,  0.001     ,  0.001     ,  0.001     ,  0.001     ,\n",
        "        0.001     ,  0.001     ,  0.04914667,  0.17335584,  0.15250136,\n",
        "        0.10450932,  0.16477852,  0.18681786,  0.14435887,  0.08976387,\n",
        "        0.05237855,  0.03570819,  0.02818544,  0.02677851,  0.0469883 ,\n",
        "        0.09054027,  0.13736376,  0.1712841 ,  0.19105152,  0.18545756,\n",
        "        0.14407767,  0.16956861,  0.15444287,  0.01664654,  0.001     ,\n",
        "        0.001     ,  0.001     ,  0.001     ,  0.001     ,  0.001     ,\n",
        "        0.04816729,  0.16389033,  0.16270902,  0.11160877,  0.14585106,\n",
        "        0.19478843,  0.16307287,  0.11618543,  0.07673617,  0.06043206,\n",
        "        0.05516141,  0.06337657,  0.09183396,  0.13278519,  0.16435054,\n",
        "        0.1921835 ,  0.19805005,  0.17172487,  0.14853024,  0.17961854,\n",
        "        0.13371703,  0.0110808 ,  0.001     ,  0.001     ,  0.001     ,\n",
        "        0.001     ,  0.001     ,  0.001     ,  0.02942334,  0.14444145,\n",
        "        0.17666663,  0.12242142,  0.12389995,  0.17716418,  0.19191689,\n",
        "        0.16333054,  0.13224046,  0.1147699 ,  0.10962071,  0.12513862,\n",
        "        0.14645541,  0.17568922,  0.19274706,  0.20416002,  0.1928365 ,\n",
        "        0.15653646,  0.16312749,  0.18125004,  0.09330163,  0.00542108,\n",
        "        0.001     ,  0.001     ,  0.001     ,  0.001     ,  0.001     ,\n",
        "        0.001     ,  0.01348642,  0.10629477,  0.18361777,  0.14890111,\n",
        "        0.11527038,  0.14562983,  0.18780006,  0.19326409,  0.18746301,\n",
        "        0.17696377,  0.17199525,  0.17727919,  0.18727391,  0.19889298,\n",
        "        0.20131275,  0.18524295,  0.16163216,  0.15406462,  0.18597938,\n",
        "        0.153089  ,  0.04312968,  0.00228443,  0.001     ,  0.001     ,\n",
        "        0.001     ,  0.001     ,  0.001     ,  0.001     ,  0.00490604,\n",
        "        0.05600609,  0.153981  ,  0.17860957,  0.13907943,  0.11370351,\n",
        "        0.14603288,  0.17456208,  0.19057573,  0.19891635,  0.20024444,\n",
        "        0.19923928,  0.19727339,  0.19188561,  0.16999291,  0.15645975,\n",
        "        0.15814992,  0.18197016,  0.17856962,  0.08563424,  0.01488703,\n",
        "        0.00102632,  0.001     ,  0.001     ,  0.001     ,  0.001     ,\n",
        "        0.001     ,  0.001     ,  0.00166649,  0.01871435,  0.08802987,\n",
        "        0.16451413,  0.17936638,  0.14136122,  0.12073246,  0.13242377,\n",
        "        0.14425992,  0.15610932,  0.16006362,  0.15916461,  0.15399536,\n",
        "        0.14776373,  0.14713273,  0.1623426 ,  0.18653661,  0.1793104 ,\n",
        "        0.10019884,  0.03225861,  0.00502355,  0.00100318,  0.001     ,\n",
        "        0.001     ,  0.001     ,  0.001     ,  0.001     ,  0.00105302,\n",
        "        0.00124763,  0.00379867,  0.02960237,  0.09006095,  0.15751234,\n",
        "        0.18062845,  0.16284359,  0.14500663,  0.13623687,  0.12971815,\n",
        "        0.13488554,  0.13593942,  0.14259853,  0.15887653,  0.17825194,\n",
        "        0.18501244,  0.15378446,  0.09260935,  0.03044732,  0.01008627,\n",
        "        0.00183644,  0.001     ,  0.001     ,  0.001     ,  0.001     ,\n",
        "        0.001     ,  0.001     ,  0.00107686,  0.001     ,  0.0010351 ,\n",
        "        0.00373937,  0.02524153,  0.06909374,  0.1205603 ,  0.15657872,\n",
        "        0.17561194,  0.18195851,  0.18068239,  0.17910983,  0.18191644,\n",
        "        0.17984661,  0.17225333,  0.14928794,  0.10330653,  0.05626163,\n",
        "        0.01905385,  0.00652121,  0.00209447,  0.00110827,  0.001     ,\n",
        "        0.001     ,  0.001     ,  0.001     ,  0.001     ,  0.001     ,\n",
        "        0.001     ,  0.001     ,  0.001     ,  0.00126528,  0.00483501,\n",
        "        0.0138689 ,  0.03625989,  0.06278889,  0.0839531 ,  0.1074976 ,\n",
        "        0.12910192,  0.13341863,  0.11893304,  0.10123648,  0.07322221,\n",
        "        0.0408444 ,  0.02006273,  0.00847797,  0.00381812,  0.00208973,\n",
        "        0.00102552,  0.001     ,  0.001     ,  0.001     ,  0.001     ,\n",
        "        0.001     ,  0.001     ,  0.001     ,  0.001     ,  0.001     ,\n",
        "        0.001     ,  0.00102705,  0.00220034,  0.00401314,  0.00757191,\n",
        "        0.01043997,  0.01373241,  0.01065858,  0.00780587,  0.00529329,\n",
        "        0.00368829,  0.00395805,  0.00225477,  0.00105302,  0.001     ,\n",
        "        0.001     ,  0.001     ,  0.001     ,  0.001     ,  0.001     ,\n",
        "        0.001     ,  0.001     ,  0.001     ,  0.001     ,  0.001     ,\n",
        "        0.001     ,  0.001     ,  0.001     ,  0.001     ,  0.001     ,\n",
        "        0.001     ,  0.001     ,  0.001     ,  0.001     ,  0.001     ,\n",
        "        0.001     ,  0.001     ,  0.001     ,  0.001     ,  0.001     ,\n",
        "        0.001     ,  0.001     ,  0.001     ,  0.001     ,  0.001     ,\n",
        "        0.001     ,  0.001     ,  0.001     ,  0.001     ,  0.001     ,\n",
        "        0.001     ,  0.001     ,  0.001     ,  0.001     ,  0.001     ,\n",
        "        0.001     ,  0.001     ,  0.001     ,  0.001     ,  0.001     ,\n",
        "        0.001     ,  0.001     ,  0.001     ,  0.001     ,  0.001     ,\n",
        "        0.001     ,  0.001     ,  0.001     ,  0.001     ,  0.001     ,\n",
        "        0.001     ,  0.001     ,  0.001     ,  0.001     ,  0.001     ,\n",
        "        0.001     ,  0.001     ,  0.001     ,  0.001     ])"
       ]
      }
     ],
     "prompt_number": 89
    },
    {
     "cell_type": "code",
     "collapsed": false,
     "input": [
      "windowSize = 3\n",
      "windowCoordinate = zip(np.arange(-windowSize,windowSize), np.arange(-windowSize,windowSize))"
     ],
     "language": "python",
     "metadata": {},
     "outputs": [],
     "prompt_number": 90
    },
    {
     "cell_type": "code",
     "collapsed": false,
     "input": [
      "list(zip([3,4],[5,6]))"
     ],
     "language": "python",
     "metadata": {},
     "outputs": [
      {
       "metadata": {},
       "output_type": "pyout",
       "prompt_number": 91,
       "text": [
        "[(3, 5), (4, 6)]"
       ]
      }
     ],
     "prompt_number": 91
    },
    {
     "cell_type": "code",
     "collapsed": false,
     "input": [
      "orderedCandidates"
     ],
     "language": "python",
     "metadata": {},
     "outputs": [
      {
       "metadata": {},
       "output_type": "pyout",
       "prompt_number": 92,
       "text": [
        "[(0, array([1, 4])),\n",
        " (5, array([ 4, 12])),\n",
        " (9, array([9, 7])),\n",
        " (6, array([6, 0])),\n",
        " (3, array([ 9, 12]))]"
       ]
      }
     ],
     "prompt_number": 92
    },
    {
     "cell_type": "code",
     "collapsed": false,
     "input": [
      "import itertools\n",
      "windowSize = 3\n",
      "windowCoordinate = list(itertools.product(np.arange(-windowSize,windowSize), np.arange(-windowSize,windowSize)))\n",
      "width = 28\n",
      "height = 28\n",
      "\n",
      "residualImage = np.array(investigateData)\n",
      "imageSupport = np.ones((40, 40))\n",
      "modelTemplates = fullGridObjectModel.layers[0]._models[:,:,0,:,:]\n",
      "currentModel = np.zeros((40, 40))\n",
      "round_index = 0\n",
      "gr.images(residualImage)\n",
      "candidate_location_list = []\n",
      "model_list = []\n",
      "for item in orderedCandidates:\n",
      "    findClass, location = item\n",
      "    currentMin = 1e10\n",
      "    minModel = np.zeros((40, 40))\n",
      "    minTemplateModel = np.zeros((28,28))\n",
      "    minLocation = None\n",
      "    for coordinateIndex in range(len(windowCoordinate)):\n",
      "        currentCoordinate = windowCoordinate[coordinateIndex] + location\n",
      "        if currentCoordinate[0] < 0 or currentCoordinate[0] + height > 40 or currentCoordinate[1] < 0 or currentCoordinate[1] + width > 40:\n",
      "            continue\n",
      "        for i in range(10):\n",
      "            for j in range(5):\n",
      "\n",
      "                emptyModel = np.ones(residualImage.shape) * 0\n",
      "                emptyModel[currentCoordinate[0]:currentCoordinate[0] + height, \n",
      "                           currentCoordinate[1]:currentCoordinate[1] + width] = modelTemplates[i, j]\n",
      "                emptyModel_covar = np.ones(residualImage.shape) * 1\n",
      "                emptyModel_covar[currentCoordinate[0]:currentCoordinate[0] + height, \n",
      "                           currentCoordinate[1]:currentCoordinate[1] + width] = fullGridObjectModel.layers[0]._modelinstance[i].covars_[j].reshape(28, 28)\n",
      "                \n",
      "                emptyModel_covar_select = emptyModel_covar[imageSupport != 0].reshape(1, -1)\n",
      "                emptyModel_model_select = emptyModel[imageSupport != 0].reshape(1, -1)\n",
      "                residualImage_select = residualImage[imageSupport != 0].reshape(1, -1)\n",
      "                residualImageSupport = np.array(residualImage_select)\n",
      "                residualImageSupport[residualImageSupport > 0] = 1\n",
      "\n",
      "                #cost = -log_multivariate_normal_density(residualImage_select, emptyModel_model_select, emptyModel_covar_select)\n",
      "                cost = np.sum((residualImage_select - emptyModel_model_select) ** 2)\n",
      "                cover_cost = (np.sum(((emptyModel_model_select) * residualImageSupport) ** 2))\n",
      "                \n",
      "                if cost < currentMin and cover_cost!=0:\n",
      "                    currentMin = cost\n",
      "                    minModel = emptyModel\n",
      "                    minTemplateModel = modelTemplates[i, j]\n",
      "                    minLocation = currentCoordinate\n",
      "                    \n",
      "    #print(item, currentMin, minLocation)\n",
      "    newSupport = np.array(minModel)            \n",
      "    newSupport[newSupport > 0.2] = 1\n",
      "    newSupport[newSupport <= 0.2] = 0\n",
      "    currentModel = np.array(currentModel + minModel * imageSupport)\n",
      "    gr.images(currentModel)\n",
      "    imageSupport = imageSupport * (1 - newSupport)\n",
      "    residualImage = residualImage * imageSupport\n",
      "    gr.images(residualImage)\n",
      "    #gr.images(minModel)\n",
      "    gr.images(imageSupport)\n",
      "    print(\"================\")\n",
      "    round_index += 1\n",
      "    candidate_location_list.append(minLocation)\n",
      "    model_list.append(minTemplateModel)\n",
      "    if (np.sum(residualImage**2) <= 20):\n",
      "        break"
     ],
     "language": "python",
     "metadata": {},
     "outputs": [
      {
       "output_type": "stream",
       "stream": "stdout",
       "text": [
        "================\n",
        "================"
       ]
      },
      {
       "output_type": "stream",
       "stream": "stdout",
       "text": [
        "\n"
       ]
      },
      {
       "metadata": {},
       "output_type": "display_data",
       "png": "[encoded data removed]",
       "text": [
        "<matplotlib.figure.Figure at 0x1419852d0>"
       ]
      },
      {
       "metadata": {},
       "output_type": "display_data",
       "png": "[encoded data removed]",
       "text": [
        "<matplotlib.figure.Figure at 0x12e0a2cd0>"
       ]
      },
      {
       "metadata": {},
       "output_type": "display_data",
       "png": "[encoded data removed]",
       "text": [
        "<matplotlib.figure.Figure at 0x12ccb55d0>"
       ]
      },
      {
       "metadata": {},
       "output_type": "display_data",
       "png": "[encoded data removed]",
       "text": [
        "<matplotlib.figure.Figure at 0x12bd09a90>"
       ]
      },
      {
       "metadata": {},
       "output_type": "display_data",
       "png": "[encoded data removed]",
       "text": [
        "<matplotlib.figure.Figure at 0x12cc37910>"
       ]
      },
      {
       "metadata": {},
       "output_type": "display_data",
       "png": "[encoded data removed]",
       "text": [
        "<matplotlib.figure.Figure at 0x12bd05a90>"
       ]
      },
      {
       "metadata": {},
       "output_type": "display_data",
       "png": "[encoded data removed]",
       "text": [
        "<matplotlib.figure.Figure at 0x12cc609d0>"
       ]
      }
     ],
     "prompt_number": 99
    },
    {
     "cell_type": "code",
     "collapsed": false,
     "input": [
      "print(candidate_location_list)"
     ],
     "language": "python",
     "metadata": {},
     "outputs": [
      {
       "output_type": "stream",
       "stream": "stdout",
       "text": [
        "[array([0, 5]), array([ 3, 11])]\n"
       ]
      }
     ],
     "prompt_number": 101
    },
    {
     "cell_type": "code",
     "collapsed": false,
     "input": [
      "gr.images(np.vstack(model_list))"
     ],
     "language": "python",
     "metadata": {},
     "outputs": [
      {
       "metadata": {},
       "output_type": "display_data",
       "png": "[encoded data removed]",
       "text": [
        "<matplotlib.figure.Figure at 0x1359e71d0>"
       ]
      }
     ],
     "prompt_number": 100
    },
    {
     "cell_type": "code",
     "collapsed": false,
     "input": [
      "a = [1,2]\n",
      "b = list(a)\n",
      "print(b)"
     ],
     "language": "python",
     "metadata": {},
     "outputs": [
      {
       "output_type": "stream",
       "stream": "stdout",
       "text": [
        "[1, 2]\n"
       ]
      }
     ],
     "prompt_number": 63
    },
    {
     "cell_type": "code",
     "collapsed": false,
     "input": [
      "result = dfs(model_list, candidate_location_list, [], [], 3, investigateData, 28,28)"
     ],
     "language": "python",
     "metadata": {},
     "outputs": [],
     "prompt_number": 103
    },
    {
     "cell_type": "code",
     "collapsed": false,
     "input": [
      "gr.images(investigateData)\n",
      "gr.images(result[3])"
     ],
     "language": "python",
     "metadata": {},
     "outputs": [
      {
       "metadata": {},
       "output_type": "display_data",
       "png": "[encoded data removed]",
       "text": [
        "<matplotlib.figure.Figure at 0x12dae1690>"
       ]
      },
      {
       "metadata": {},
       "output_type": "display_data",
       "png": "[encoded data removed]",
       "text": [
        "<matplotlib.figure.Figure at 0x12dae1090>"
       ]
      }
     ],
     "prompt_number": 105
    },
    {
     "cell_type": "code",
     "collapsed": false,
     "input": [
      "def dfs(model_list, location_list, model_put_down, location_put_down, windowSize, imageToModel, height, width):\n",
      "    windowCoordinate = list(itertools.product(np.arange(-windowSize,windowSize), np.arange(-windowSize,windowSize)))\n",
      "    if len(model_list) == 0:\n",
      "        imageSupport = np.ones(imageToModel.shape)\n",
      "        finalModel = np.zeros(imageToModel.shape)\n",
      "        for i in range(len(model_put_down)):\n",
      "            emptyModel = np.zeros(imageToModel.shape)\n",
      "            emptyModel[location_put_down[i][0]:location_put_down[i][0] + height, \n",
      "                           location_put_down[i][1]:location_put_down[i][1] + width] = model_put_down[i]\n",
      "            finalModel += emptyModel * imageSupport\n",
      "            modelSupport = np.array(emptyModel)\n",
      "            modelSupport[modelSupport > 0.2] = 1\n",
      "            modelSupport = 1 - modelSupport\n",
      "            imageSupport = imageSupport * modelSupport\n",
      "        return np.sum((imageToModel - finalModel)**2), model_put_down, location_put_down, finalModel\n",
      "    \n",
      "    currentMin = 1e10\n",
      "    currentMin_Model = None\n",
      "    currentMin_Location = None\n",
      "    currentMin_final_model = None\n",
      "    \n",
      "    for i in range(len(model_list)):\n",
      "        currentModel = model_list[i]\n",
      "        currentLocation = location_list[i]\n",
      "        \n",
      "        newModelList = model_list[:i] + model_list[i+1:]\n",
      "        newLocationList = location_list[:i] + location_list[i+1:]\n",
      "        new_model_put_down = list(model_put_down)\n",
      "        new_model_put_down.append(currentModel)\n",
      "        \n",
      "        for coordinateIndex in range(len(windowCoordinate)):\n",
      "            \n",
      "            currentCoordinate = windowCoordinate[coordinateIndex] + currentLocation\n",
      "            if currentCoordinate[0] < 0 or currentCoordinate[0] + height > 40 or currentCoordinate[1] < 0 or currentCoordinate[1] + width > 40:\n",
      "                continue\n",
      "            \n",
      "            new_location_put_down = list(location_put_down)\n",
      "            new_location_put_down.append(currentCoordinate)\n",
      "            \n",
      "            result_err, result_Model, result_Location, result_final_model = dfs(newModelList, newLocationList, \n",
      "                                                            new_model_put_down, new_location_put_down,\n",
      "                                                            windowSize, imageToModel, height, width)\n",
      "            #print(result_err)\n",
      "            if (result_err <= currentMin):\n",
      "                currentMin = result_err\n",
      "                currentMin_Model = result_Model\n",
      "                currentMin_Location = result_Location\n",
      "                currentMin_final_model = result_final_model\n",
      "\n",
      "    return currentMin, currentMin_Model, currentMin_Location, currentMin_final_model\n",
      "            \n",
      "        "
     ],
     "language": "python",
     "metadata": {},
     "outputs": [],
     "prompt_number": 102
    },
    {
     "cell_type": "code",
     "collapsed": false,
     "input": [
      "len(model_list)"
     ],
     "language": "python",
     "metadata": {},
     "outputs": [
      {
       "metadata": {},
       "output_type": "pyout",
       "prompt_number": 195,
       "text": [
        "2"
       ]
      }
     ],
     "prompt_number": 195
    },
    {
     "cell_type": "code",
     "collapsed": false,
     "input": [],
     "language": "python",
     "metadata": {},
     "outputs": []
    }
   ],
   "metadata": {}
  }
 ]
}