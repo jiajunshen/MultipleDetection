{
 "metadata": {
  "name": "",
  "signature": "sha256:cf7ac21cc3ec57da77fd506a24fc8d6ca995c28a88955c39581070075f49d538"
 },
 "nbformat": 3,
 "nbformat_minor": 0,
 "worksheets": [
  {
   "cells": [
    {
     "cell_type": "code",
     "collapsed": false,
     "input": [
      "%load_ext autoreload\n",
      "\n",
      "%autoreload 2"
     ],
     "language": "python",
     "metadata": {},
     "outputs": [],
     "prompt_number": 1
    },
    {
     "cell_type": "code",
     "collapsed": false,
     "input": [
      "import os"
     ],
     "language": "python",
     "metadata": {},
     "outputs": [],
     "prompt_number": 2
    },
    {
     "cell_type": "code",
     "collapsed": false,
     "input": [
      "os.chdir('/Users/jiajunshen/Documents/Research/recurrent-spatial-transformer-code/cnnDetection/MultipleDetection/src/')"
     ],
     "language": "python",
     "metadata": {},
     "outputs": [],
     "prompt_number": 3
    },
    {
     "cell_type": "code",
     "collapsed": false,
     "input": [
      "from buildLikelihoodDetector import *"
     ],
     "language": "python",
     "metadata": {},
     "outputs": [
      {
       "output_type": "stream",
       "stream": "stderr",
       "text": [
        "Using gpu device 0: GeForce GT 650M (CNMeM is disabled)\n",
        "/Users/jiajunshen/Library/Enthought/Canopy_64bit/User/lib/python2.7/site-packages/matplotlib/__init__.py:1318: UserWarning:  This call to matplotlib.use() has no effect\n",
        "because the backend has already been chosen;\n",
        "matplotlib.use() must be called *before* pylab, matplotlib.pyplot,\n",
        "or matplotlib.backends is imported for the first time.\n",
        "\n",
        "  warnings.warn(_use_error_msg)\n"
       ]
      }
     ],
     "prompt_number": 4
    },
    {
     "cell_type": "code",
     "collapsed": false,
     "input": [
      "from CNNForMnist import build_cnn\n",
      "print(\"load data...\")\n",
      "X_train, y_train, X_test, y_test = load_data(\"/X_train.npy\", \"/Y_train.npy\", \"/X_test.npy\", \"/Y_test.npy\")\n",
      "print(\"bulding function...\")\n",
      "inputData = T.tensor4('inputs')\n",
      "model = build_cnn(inputData)\n",
      "lasagne.layers.set_all_param_values(model, np.load(\"../data/mnist_CNN_params_drop_out.npy\"))\n",
      "extractedFeature = lasagne.layers.get_output(model)\n",
      "extract_function = theano.function([inputData], extractedFeature)\n",
      "print(\"feature extraction...\")\n",
      "X_train_feature = extract(X_train[:400], extract_function)\n",
      "X_test_feature = extract(X_test[:400], extract_function)"
     ],
     "language": "python",
     "metadata": {},
     "outputs": [
      {
       "output_type": "stream",
       "stream": "stdout",
       "text": [
        "load data...\n",
        "bulding function..."
       ]
      },
      {
       "output_type": "stream",
       "stream": "stdout",
       "text": [
        "\n",
        "feature extraction..."
       ]
      },
      {
       "output_type": "stream",
       "stream": "stdout",
       "text": [
        "\n"
       ]
      }
     ],
     "prompt_number": 13
    },
    {
     "cell_type": "code",
     "collapsed": false,
     "input": [
      "np.sum(X_train_feature, axis = 1)"
     ],
     "language": "python",
     "metadata": {},
     "outputs": [
      {
       "metadata": {},
       "output_type": "pyout",
       "prompt_number": 16,
       "text": [
        "array([ 1.        ,  1.        ,  1.00000012,  1.        ,  1.        ,\n",
        "        1.        ,  1.        ,  0.99999994,  0.99999994,  1.        ,\n",
        "        1.        ,  1.        ,  1.        ,  1.00000012,  0.99999994,\n",
        "        1.00000012,  1.        ,  1.00000012,  1.        ,  0.99999994,\n",
        "        0.99999994,  1.        ,  1.        ,  1.        ,  1.00000012,\n",
        "        1.        ,  0.99999994,  1.        ,  1.00000012,  1.00000012,\n",
        "        0.99999988,  1.        ,  1.        ,  0.99999994,  0.99999988,\n",
        "        0.99999988,  1.00000012,  1.        ,  0.99999994,  1.00000012,\n",
        "        1.        ,  1.        ,  1.00000012,  0.99999988,  1.        ,\n",
        "        1.        ,  1.        ,  1.        ,  1.        ,  1.        ,\n",
        "        0.99999994,  1.        ,  1.        ,  1.00000012,  0.99999994,\n",
        "        1.        ,  1.        ,  0.99999994,  1.        ,  1.        ,\n",
        "        1.00000012,  1.00000012,  1.        ,  1.        ,  1.        ,\n",
        "        1.        ,  0.99999988,  0.99999988,  0.99999994,  0.99999994,\n",
        "        0.99999994,  1.00000012,  1.        ,  1.        ,  0.99999994,\n",
        "        0.99999994,  0.99999994,  0.99999994,  1.        ,  0.99999994,\n",
        "        0.99999994,  1.        ,  1.        ,  1.        ,  1.        ,\n",
        "        1.        ,  1.        ,  1.        ,  1.        ,  1.        ,\n",
        "        1.        ,  0.99999988,  1.        ,  1.        ,  1.        ,\n",
        "        0.99999994,  1.        ,  0.99999994,  0.99999988,  1.00000012,\n",
        "        1.00000012,  1.        ,  1.        ,  0.99999994,  1.        ,\n",
        "        0.99999994,  1.        ,  1.        ,  1.        ,  0.99999994,\n",
        "        0.99999994,  0.99999988,  1.00000012,  1.00000012,  0.99999994,\n",
        "        1.        ,  0.99999994,  1.        ,  1.        ,  1.00000012,\n",
        "        1.        ,  0.99999994,  1.        ,  1.        ,  1.        ,\n",
        "        1.        ,  0.99999994,  0.99999994,  0.99999982,  0.99999994,\n",
        "        0.99999994,  1.        ,  1.        ,  1.        ,  1.00000012,\n",
        "        1.        ,  1.        ,  1.        ,  1.        ,  1.        ,\n",
        "        1.        ,  1.00000012,  1.        ,  1.        ,  1.        ,\n",
        "        1.        ,  1.        ,  1.        ,  1.00000012,  1.00000012,\n",
        "        0.99999988,  1.        ,  1.        ,  1.        ,  1.        ,\n",
        "        1.        ,  1.        ,  0.99999994,  1.        ,  1.        ,\n",
        "        0.99999994,  1.        ,  0.99999994,  1.        ,  0.99999994,\n",
        "        1.        ,  1.        ,  1.00000012,  1.        ,  1.        ,\n",
        "        1.        ,  1.        ,  1.        ,  1.        ,  1.00000012,\n",
        "        1.        ,  1.        ,  1.00000012,  0.99999994,  1.        ,\n",
        "        1.        ,  1.00000012,  1.        ,  1.        ,  1.        ,\n",
        "        1.00000012,  0.99999988,  1.        ,  1.        ,  1.        ,\n",
        "        0.99999994,  1.00000012,  1.        ,  1.00000012,  0.99999994,\n",
        "        0.99999994,  1.        ,  1.        ,  1.        ,  1.        ,\n",
        "        0.99999994,  1.00000024,  1.        ,  1.        ,  1.        ,\n",
        "        0.99999994,  1.        ,  1.00000012,  0.99999994,  1.        ,\n",
        "        1.00000012,  1.        ,  1.        ,  1.        ,  0.99999994,\n",
        "        1.        ,  1.        ,  1.        ,  1.        ,  1.        ,\n",
        "        0.99999988,  1.        ,  1.00000012,  1.        ,  1.        ,\n",
        "        1.        ,  1.        ,  1.        ,  0.99999994,  1.        ,\n",
        "        1.        ,  1.00000012,  1.00000012,  1.        ,  0.99999994,\n",
        "        0.99999994,  0.99999994,  0.99999994,  1.        ,  1.00000012,\n",
        "        1.00000012,  1.        ,  1.        ,  1.        ,  0.99999994,\n",
        "        0.99999994,  1.        ,  0.99999994,  1.        ,  1.        ,\n",
        "        1.00000012,  1.        ,  1.        ,  1.        ,  1.        ,\n",
        "        1.        ,  1.        ,  1.        ,  1.        ,  1.        ,\n",
        "        0.99999988,  1.        ,  1.00000012,  1.        ,  1.00000012,\n",
        "        1.        ,  0.99999988,  0.99999994,  1.        ,  1.        ,\n",
        "        1.00000012,  1.        ,  1.        ,  1.        ,  1.00000012,\n",
        "        0.99999982,  0.99999994,  0.99999982,  1.        ,  1.        ,\n",
        "        0.99999994,  0.99999994,  1.        ,  1.        ,  0.99999994,\n",
        "        0.99999988,  1.        ,  1.        ,  0.99999994,  0.99999994,\n",
        "        0.99999994,  1.        ,  1.        ,  1.        ,  0.99999988,\n",
        "        0.99999994,  1.        ,  1.        ,  0.99999988,  1.        ,\n",
        "        1.        ,  1.        ,  1.        ,  1.        ,  1.        ,\n",
        "        1.        ,  1.        ,  0.99999994,  1.        ,  1.        ,\n",
        "        1.        ,  1.        ,  1.        ,  1.        ,  1.        ,\n",
        "        1.        ,  1.        ,  1.        ,  1.        ,  1.        ,\n",
        "        0.99999988,  0.99999994,  0.99999994,  1.        ,  1.        ,\n",
        "        1.00000012,  1.        ,  1.00000012,  1.        ,  1.        ,\n",
        "        1.        ,  1.        ,  1.        ,  0.99999994,  0.99999994,\n",
        "        1.        ,  1.        ,  0.99999994,  1.        ,  1.        ,\n",
        "        0.99999988,  1.        ,  1.        ,  1.00000012,  1.        ,\n",
        "        0.99999994,  1.        ,  1.        ,  1.00000012,  0.99999988,\n",
        "        1.        ,  1.        ,  1.        ,  1.        ,  1.        ,\n",
        "        1.        ,  1.00000012,  1.        ,  1.        ,  1.        ,\n",
        "        0.99999994,  1.        ,  0.99999994,  0.99999988,  1.00000012,\n",
        "        0.99999994,  0.99999988,  1.        ,  1.        ,  1.        ,\n",
        "        1.00000012,  0.99999994,  1.        ,  1.        ,  1.        ,\n",
        "        1.        ,  1.        ,  1.        ,  1.        ,  0.99999988,\n",
        "        1.        ,  1.        ,  1.        ,  1.00000012,  1.        ,\n",
        "        1.        ,  1.        ,  1.        ,  0.99999994,  1.        ,\n",
        "        1.        ,  1.        ,  0.99999994,  1.        ,  1.        ,\n",
        "        1.00000012,  0.99999994,  0.99999994,  1.00000012,  0.99999994], dtype=float32)"
       ]
      }
     ],
     "prompt_number": 16
    },
    {
     "cell_type": "code",
     "collapsed": false,
     "input": [
      "data = createSampleTest(nSample = 4)\n",
      "gr.images(data[0] + data[1])"
     ],
     "language": "python",
     "metadata": {},
     "outputs": [
      {
       "metadata": {},
       "output_type": "display_data",
       "png": "[encoded data removed]",
       "text": [
        "<matplotlib.figure.Figure at 0x14148f710>"
       ]
      }
     ],
     "prompt_number": 20
    },
    {
     "cell_type": "code",
     "collapsed": false,
     "input": [
      "investigateData = np.array(data[0])\n",
      "for i in range(investigateData.shape[0]):\n",
      "    for j in range(investigateData.shape[1]):\n",
      "        if investigateData[i,j] == 0:\n",
      "            investigateData[i,j] = data[1][i,j]\n",
      "gr.images(investigateData)"
     ],
     "language": "python",
     "metadata": {},
     "outputs": [
      {
       "metadata": {},
       "output_type": "display_data",
       "png": "[encoded data removed]",
       "text": [
        "<matplotlib.figure.Figure at 0x135d0a190>"
       ]
      }
     ],
     "prompt_number": 26
    },
    {
     "cell_type": "code",
     "collapsed": false,
     "input": [
      "processedData = reprocess_data_for_extraction(investigateData.reshape(1, 40, 40))\n",
      "processedData_reshape = processedData.reshape(-1, 1, 28, 28)\n",
      "processedData_reshape_feature = extract_function(np.array(processedData_reshape,dtype = np.float32))"
     ],
     "language": "python",
     "metadata": {},
     "outputs": [],
     "prompt_number": 28
    },
    {
     "cell_type": "code",
     "collapsed": false,
     "input": [],
     "language": "python",
     "metadata": {},
     "outputs": []
    }
   ],
   "metadata": {}
  }
 ]
}