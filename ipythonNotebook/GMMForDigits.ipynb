{
 "metadata": {
  "name": "",
  "signature": "sha256:d99f22a82647dc8bc081094d772351888cbbaff53b3421e1eb862eca0fdf3f59"
 },
 "nbformat": 3,
 "nbformat_minor": 0,
 "worksheets": [
  {
   "cells": [
    {
     "cell_type": "code",
     "collapsed": false,
     "input": [
      "import os\n",
      "import numpy as np\n",
      "import sys\n",
      "import time\n",
      "import theano\n",
      "import theano.tensor as T\n",
      "import lasagne\n",
      "from lasagne.layers.dnn import Conv2DDNNLayer as Conv2DLayer\n",
      "from lasagne.layers.dnn import MaxPool2DDNNLayer as MaxPool2DLayer"
     ],
     "language": "python",
     "metadata": {},
     "outputs": [
      {
       "output_type": "stream",
       "stream": "stderr",
       "text": [
        "Using gpu device 0: GeForce GT 650M (CNMeM is disabled)\n"
       ]
      }
     ],
     "prompt_number": 1
    },
    {
     "cell_type": "code",
     "collapsed": false,
     "input": [
      "os.chdir(\"../src/\")"
     ],
     "language": "python",
     "metadata": {},
     "outputs": [],
     "prompt_number": 2
    },
    {
     "cell_type": "code",
     "collapsed": false,
     "input": [
      "from dataPreparation import load_data\n",
      "# Load the dataset\n",
      "print(\"Loading data...\")\n",
      "\n",
      "X_train, y_train, X_test, y_test = load_data(\"/X_train.npy\", \"/Y_train.npy\", \"/X_test.npy\", \"/Y_test.npy\")"
     ],
     "language": "python",
     "metadata": {},
     "outputs": [
      {
       "output_type": "stream",
       "stream": "stdout",
       "text": [
        "Loading data...\n"
       ]
      }
     ],
     "prompt_number": 3
    },
    {
     "cell_type": "code",
     "collapsed": false,
     "input": [
      "input_var = T.ftensor4('inputs')\n",
      "target_var = T.fmatrix('targets')"
     ],
     "language": "python",
     "metadata": {},
     "outputs": [],
     "prompt_number": 4
    },
    {
     "cell_type": "code",
     "collapsed": false,
     "input": [
      "network = lasagne.layers.InputLayer(shape=(None, 1, 28, 28),\n",
      "                                    input_var=input_var, name = 'input_layer')\n",
      "network_reshape = lasagne.layers.ReshapeLayer(network, shape=([0], 784), name = 'reshape_layer')\n",
      "labelInput = lasagne.layers.InputLayer(shape=(None, 10),\n",
      "                                    input_var=target_var)\n",
      "network = lasagne.layers.ConcatLayer(\n",
      "        [network_reshape, labelInput], axis = 1)\n",
      "network = lasagne.layers.MultiGaussianMixture(network, num_components = 5, n_classes = 10 , name = 'output_layer')"
     ],
     "language": "python",
     "metadata": {},
     "outputs": [],
     "prompt_number": 5
    },
    {
     "cell_type": "code",
     "collapsed": false,
     "input": [
      "loss = lasagne.layers.get_output(network)\n",
      "loss.name = 'loss'\n",
      "loss_mean = loss.mean()\n",
      "loss_mean.name = 'loss_mean'"
     ],
     "language": "python",
     "metadata": {},
     "outputs": [],
     "prompt_number": 6
    },
    {
     "cell_type": "code",
     "collapsed": false,
     "input": [
      "theano.printing.debugprint(loss_mean, print_type=True)"
     ],
     "language": "python",
     "metadata": {},
     "outputs": [
      {
       "output_type": "stream",
       "stream": "stdout",
       "text": [
        "Elemwise{true_div,no_inplace} [id A] <TensorType(float32, scalar)> 'loss_mean'   \n",
        " |Sum{acc_dtype=float64} [id B] <TensorType(float32, scalar)> ''   \n",
        " | |Elemwise{neg,no_inplace} [id C] <TensorType(float32, vector)> 'loss'   \n",
        " |   |Sum{axis=[1], acc_dtype=float64} [id D] <TensorType(float32, vector)> ''   \n",
        " |     |Elemwise{mul,no_inplace} [id E] <TensorType(float32, matrix)> ''   \n",
        " |       |Elemwise{add,no_inplace} [id F] <TensorType(float32, matrix)> ''   \n",
        " |       | |Elemwise{log,no_inplace} [id G] <TensorType(float32, matrix)> ''   \n",
        " |       | | |Elemwise{add,no_inplace} [id H] <TensorType(float32, matrix)> ''   \n",
        " |       | |   |Sum{axis=[2], acc_dtype=float64} [id I] <TensorType(float32, matrix)> ''   \n",
        " |       | |   | |Elemwise{exp,no_inplace} [id J] <TensorType(float32, 3D)> ''   \n",
        " |       | |   |   |Elemwise{sub,no_inplace} [id K] <TensorType(float32, 3D)> ''   \n",
        " |       | |   |     |Elemwise{add,no_inplace} [id L] <TensorType(float32, 3D)> 'logComponentSum'   \n",
        " |       | |   |     | |Elemwise{mul,no_inplace} [id M] <TensorType(float32, 3D)> 'logComponentOutput'   \n",
        " |       | |   |     | | |DimShuffle{x,x,x} [id N] <TensorType(float32, (True, True, True))> ''   \n",
        " |       | |   |     | | | |TensorConstant{-0.5} [id O] <TensorType(float32, scalar)>\n",
        " |       | |   |     | | |Elemwise{add,no_inplace} [id P] <TensorType(float32, 3D)> ''   \n",
        " |       | |   |     | |   |Elemwise{add,no_inplace} [id Q] <TensorType(float32, 3D)> ''   \n",
        " |       | |   |     | |   | |Sum{axis=[3], acc_dtype=float64} [id R] <TensorType(float32, 3D)> ''   \n",
        " |       | |   |     | |   | | |Elemwise{sqr,no_inplace} [id S] <TensorType(float32, 4D)> ''   \n",
        " |       | |   |     | |   | |   |Elemwise{mul,no_inplace} [id T] <TensorType(float32, 4D)> ''   \n",
        " |       | |   |     | |   | |     |Elemwise{sub,no_inplace} [id U] <TensorType(float32, 4D)> ''   \n",
        " |       | |   |     | |   | |     | |DimShuffle{0,x,x,1} [id V] <TensorType(float32, (False, True, True, False))> 'inputData_reshape'   \n",
        " |       | |   |     | |   | |     | | |Subtensor{::, :int64:} [id W] <TensorType(float32, matrix)> 'inputData'   \n",
        " |       | |   |     | |   | |     | |   |Join [id X] <TensorType(float32, matrix)> ''   \n",
        " |       | |   |     | |   | |     | |   | |TensorConstant{1} [id Y] <TensorType(int8, scalar)>\n",
        " |       | |   |     | |   | |     | |   | |Reshape{2} [id Z] <TensorType(float32, matrix)> ''   \n",
        " |       | |   |     | |   | |     | |   | | |inputs [id BA] <TensorType(float32, 4D)>\n",
        " |       | |   |     | |   | |     | |   | | |MakeVector{dtype='int64'} [id BB] <TensorType(int64, vector)> ''   \n",
        " |       | |   |     | |   | |     | |   | |   |Subtensor{int64} [id BC] <TensorType(int64, scalar)> ''   \n",
        " |       | |   |     | |   | |     | |   | |   | |Shape [id BD] <TensorType(int64, vector)> ''   \n",
        " |       | |   |     | |   | |     | |   | |   | | |inputs [id BA] <TensorType(float32, 4D)>\n",
        " |       | |   |     | |   | |     | |   | |   | |Constant{0} [id BE] <int64>\n",
        " |       | |   |     | |   | |     | |   | |   |Elemwise{Cast{int64}} [id BF] <TensorType(int64, scalar)> ''   \n",
        " |       | |   |     | |   | |     | |   | |     |TensorConstant{784} [id BG] <TensorType(int16, scalar)>\n",
        " |       | |   |     | |   | |     | |   | |targets [id BH] <TensorType(float32, matrix)>\n",
        " |       | |   |     | |   | |     | |   |Constant{-10} [id BI] <int64>\n",
        " |       | |   |     | |   | |     | |DimShuffle{x,0,1,2} [id BJ] <TensorType(float32, (True, False, False, False))> 'mean_reshape'   \n",
        " |       | |   |     | |   | |     |   |HostFromGpu [id BK] <TensorType(float32, 3D)> ''   \n",
        " |       | |   |     | |   | |     |     |output_layer.Means [id BL] <CudaNdarrayType(float32, 3D)>\n",
        " |       | |   |     | |   | |     |Elemwise{sqrt,no_inplace} [id BM] <TensorType(float32, (True, False, False, False))> 'sigma_inverse_sqrt'   \n",
        " |       | |   |     | |   | |       |Elemwise{true_div,no_inplace} [id BN] <TensorType(float32, (True, False, False, False))> ''   \n",
        " |       | |   |     | |   | |         |DimShuffle{x,x,x,x} [id BO] <TensorType(float32, (True, True, True, True))> ''   \n",
        " |       | |   |     | |   | |         | |TensorConstant{1.0} [id BP] <TensorType(float32, scalar)>\n",
        " |       | |   |     | |   | |         |DimShuffle{x,0,1,2} [id BQ] <TensorType(float32, (True, False, False, False))> 'sigma_reshape'   \n",
        " |       | |   |     | |   | |           |HostFromGpu [id BR] <TensorType(float32, 3D)> ''   \n",
        " |       | |   |     | |   | |             |output_layer.Sigmas [id BS] <CudaNdarrayType(float32, 3D)>\n",
        " |       | |   |     | |   | |Sum{axis=[3], acc_dtype=float64} [id BT] <TensorType(float32, (True, False, False))> ''   \n",
        " |       | |   |     | |   |   |Elemwise{log,no_inplace} [id BU] <TensorType(float32, (True, False, False, False))> ''   \n",
        " |       | |   |     | |   |     |DimShuffle{x,0,1,2} [id BQ] <TensorType(float32, (True, False, False, False))> 'sigma_reshape'   \n",
        " |       | |   |     | |   |DimShuffle{x,0,1} [id BV] <TensorType(float32, (True, False, False))> ''   \n",
        " |       | |   |     | |     |Elemwise{mul,no_inplace} [id BW] <TensorType(float32, matrix)> ''   \n",
        " |       | |   |     | |       |Elemwise{mul,no_inplace} [id BX] <TensorType(float32, matrix)> ''   \n",
        " |       | |   |     | |       | |Alloc [id BY] <TensorType(float32, matrix)> ''   \n",
        " |       | |   |     | |       | | |TensorConstant{1.0} [id BP] <TensorType(float32, scalar)>\n",
        " |       | |   |     | |       | | |TensorConstant{10} [id BZ] <TensorType(int8, scalar)>\n",
        " |       | |   |     | |       | | |TensorConstant{5} [id CA] <TensorType(int8, scalar)>\n",
        " |       | |   |     | |       | |DimShuffle{x,x} [id CB] <TensorType(int16, (True, True))> ''   \n",
        " |       | |   |     | |       |   |TensorConstant{784} [id CC] <TensorType(int16, scalar)>\n",
        " |       | |   |     | |       |DimShuffle{x,x} [id CD] <TensorType(float32, (True, True))> ''   \n",
        " |       | |   |     | |         |Elemwise{log,no_inplace} [id CE] <TensorType(float32, scalar)> ''   \n",
        " |       | |   |     | |           |TensorConstant{6.28318548203} [id CF] <TensorType(float32, scalar)>\n",
        " |       | |   |     | |Elemwise{log,no_inplace} [id CG] <TensorType(float32, (True, False, False))> ''   \n",
        " |       | |   |     |   |DimShuffle{x,0,1} [id CH] <TensorType(float32, (True, False, False))> 'weights_reshape'   \n",
        " |       | |   |     |     |HostFromGpu [id CI] <TensorType(float32, matrix)> ''   \n",
        " |       | |   |     |       |output_layer.Weights [id CJ] <CudaNdarrayType(float32, matrix)>\n",
        " |       | |   |     |DimShuffle{0,1,x} [id CK] <TensorType(float32, (False, False, True))> ''   \n",
        " |       | |   |       |Elemwise{true_div,no_inplace} [id CL] <TensorType(float32, matrix)> 'mean'   \n",
        " |       | |   |         |Sum{axis=[2], acc_dtype=float64} [id CM] <TensorType(float32, matrix)> ''   \n",
        " |       | |   |         | |Elemwise{add,no_inplace} [id L] <TensorType(float32, 3D)> 'logComponentSum'   \n",
        " |       | |   |         |DimShuffle{x,x} [id CN] <TensorType(float32, (True, True))> ''   \n",
        " |       | |   |           |Subtensor{int64} [id CO] <TensorType(float32, scalar)> ''   \n",
        " |       | |   |             |Elemwise{Cast{float32}} [id CP] <TensorType(float32, vector)> ''   \n",
        " |       | |   |             | |Shape [id CQ] <TensorType(int64, vector)> ''   \n",
        " |       | |   |             |   |Elemwise{add,no_inplace} [id L] <TensorType(float32, 3D)> 'logComponentSum'   \n",
        " |       | |   |             |Constant{2} [id CR] <int64>\n",
        " |       | |   |Elemwise{second,no_inplace} [id CS] <TensorType(float32, matrix)> ''   \n",
        " |       | |     |Subtensor{::, int64::} [id CT] <TensorType(float32, matrix)> 'inputLabel'   \n",
        " |       | |     | |Join [id X] <TensorType(float32, matrix)> ''   \n",
        " |       | |     | |Constant{-10} [id CU] <int64>\n",
        " |       | |     |DimShuffle{x,x} [id CV] <TensorType(float32, (True, True))> ''   \n",
        " |       | |       |TensorConstant{1.0} [id BP] <TensorType(float32, scalar)>\n",
        " |       | |Elemwise{true_div,no_inplace} [id CL] <TensorType(float32, matrix)> 'mean'   \n",
        " |       |Subtensor{::, int64::} [id CT] <TensorType(float32, matrix)> 'inputLabel'   \n",
        " |Subtensor{int64} [id CW] <TensorType(float32, scalar)> ''   \n",
        "   |Elemwise{Cast{float32}} [id CX] <TensorType(float32, vector)> ''   \n",
        "   | |Shape [id CY] <TensorType(int64, vector)> ''   \n",
        "   |   |Elemwise{neg,no_inplace} [id C] <TensorType(float32, vector)> 'loss'   \n",
        "   |Constant{0} [id CZ] <int64>\n"
       ]
      }
     ],
     "prompt_number": 7
    },
    {
     "cell_type": "code",
     "collapsed": false,
     "input": [
      "params = lasagne.layers.get_all_params(network, trainable=True)\n",
      "print(params)\n",
      "#updates = lasagne.updates.nesterov_momentum(\n",
      "#        loss, params, learning_rate=0.0001, momentum=0.9)\n",
      "gparams = T.grad(loss_mean, params)\n",
      "\n",
      "\n",
      "updates = [\n",
      "    (param, param - 0.0001 * gparam)\n",
      "    for param, gparam in zip(params, gparams)\n",
      " ]"
     ],
     "language": "python",
     "metadata": {},
     "outputs": [
      {
       "output_type": "stream",
       "stream": "stdout",
       "text": [
        "[output_layer.Means, output_layer.Sigmas]\n"
       ]
      }
     ],
     "prompt_number": 8
    },
    {
     "cell_type": "code",
     "collapsed": false,
     "input": [
      "train_fn = theano.function([input_var, target_var], [loss_mean,] + [update for update in gparams], updates=updates)"
     ],
     "language": "python",
     "metadata": {},
     "outputs": [],
     "prompt_number": 9
    },
    {
     "cell_type": "code",
     "collapsed": false,
     "input": [
      "def iterate_minibatches(inputs, targets, batchsize, classNum = 10, shuffle=False):\n",
      "    targets = np.array(targets, dtype = np.int32)\n",
      "    assert len(inputs) == len(targets)\n",
      "    if shuffle:\n",
      "        indices = np.arange(len(inputs))\n",
      "        np.random.shuffle(indices)\n",
      "    for start_idx in range(0, len(inputs) - batchsize + 1, batchsize):\n",
      "        if shuffle:\n",
      "            excerpt = indices[start_idx:start_idx + batchsize]\n",
      "        else:\n",
      "            excerpt = slice(start_idx, start_idx + batchsize)\n",
      "        binary_targets = np.zeros((batchsize, classNum))\n",
      "        binary_targets[np.arange(batchsize),targets[excerpt]] = 1\n",
      "        yield inputs[excerpt], np.array(binary_targets,dtype = np.float32)"
     ],
     "language": "python",
     "metadata": {},
     "outputs": [],
     "prompt_number": 10
    },
    {
     "cell_type": "code",
     "collapsed": false,
     "input": [
      "X_train_zero = np.array(X_train[y_train == 0], dtype = np.float32)\n",
      "y_train_zero = np.array(y_train[y_train == 0], dtype = np.float32)"
     ],
     "language": "python",
     "metadata": {},
     "outputs": [],
     "prompt_number": 11
    },
    {
     "cell_type": "code",
     "collapsed": false,
     "input": [],
     "language": "python",
     "metadata": {},
     "outputs": [],
     "prompt_number": 11
    },
    {
     "cell_type": "code",
     "collapsed": false,
     "input": [
      "for epoch in range(5):\n",
      "    train_err = 0\n",
      "    for batch in iterate_minibatches(X_train_zero, y_train_zero, 100, 10, shuffle=True):\n",
      "        inputs, targets = batch\n",
      "        current_result = train_fn(inputs, targets)\n",
      "        print(\"-------------\")\n",
      "        print(current_result[0])\n",
      "        print(np.sum(np.asarray(current_result[1])))\n",
      "        print(np.sum(np.asarray(current_result[2])))\n",
      "        print(\"-------------\")\n",
      "        train_err += current_result[0]\n",
      "    print(train_err)"
     ],
     "language": "python",
     "metadata": {},
     "outputs": [
      {
       "output_type": "stream",
       "stream": "stdout",
       "text": [
        "-------------\n",
        "425.287017822\n",
        "-1387.6\n",
        "-2156.35\n",
        "-------------\n",
        "-------------"
       ]
      },
      {
       "output_type": "stream",
       "stream": "stdout",
       "text": [
        "\n",
        "411.589477539\n",
        "-1360.66\n",
        "-1997.54\n",
        "-------------\n",
        "-------------"
       ]
      },
      {
       "output_type": "stream",
       "stream": "stdout",
       "text": [
        "\n",
        "402.896392822\n",
        "-1343.43\n",
        "-1890.09\n",
        "-------------\n",
        "-------------\n",
        "407.234649658\n",
        "-1351.66\n",
        "-1913.03\n",
        "-------------\n",
        "-------------"
       ]
      },
      {
       "output_type": "stream",
       "stream": "stdout",
       "text": [
        "\n",
        "392.37286377\n",
        "-1320.34\n",
        "-1747.26\n",
        "-------------\n",
        "-------------\n",
        "382.865478516\n",
        "-1299.16\n",
        "-1637.52\n",
        "-------------\n",
        "-------------"
       ]
      },
      {
       "output_type": "stream",
       "stream": "stdout",
       "text": [
        "\n",
        "396.728820801\n",
        "-1332.27\n",
        "-1755.72\n",
        "-------------\n",
        "-------------\n",
        "378.043212891\n",
        "-1289.95\n",
        "-1551.47\n",
        "-------------\n",
        "-------------"
       ]
      },
      {
       "output_type": "stream",
       "stream": "stdout",
       "text": [
        "\n",
        "408.357116699\n",
        "-1349.94\n",
        "-1833.32\n",
        "-------------\n",
        "-------------\n",
        "382.091247559\n",
        "-1296.16\n",
        "-1560.76\n",
        "-------------\n",
        "-------------"
       ]
      },
      {
       "output_type": "stream",
       "stream": "stdout",
       "text": [
        "\n",
        "390.757263184\n",
        "-1314.53\n",
        "-1625.07\n",
        "-------------\n",
        "-------------\n",
        "410.125244141\n",
        "-1354.64\n",
        "-1796.77\n",
        "-------------\n",
        "-------------\n",
        "399.847747803\n",
        "-1326.42\n",
        "-1681.51\n",
        "-------------\n",
        "-------------"
       ]
      },
      {
       "output_type": "stream",
       "stream": "stdout",
       "text": [
        "\n",
        "374.161865234\n",
        "-1282.04\n",
        "-1411.08\n",
        "-------------\n",
        "-------------\n",
        "396.371948242\n",
        "-1323.47\n",
        "-1614.31\n",
        "-------------\n",
        "-------------\n",
        "397.117584229\n",
        "-1324.16"
       ]
      },
      {
       "output_type": "stream",
       "stream": "stdout",
       "text": [
        "\n",
        "-1599.26\n",
        "-------------\n",
        "-------------\n",
        "395.159851074\n",
        "-1320.79\n",
        "-1570.16\n",
        "-------------\n",
        "-------------\n",
        "388.353668213\n",
        "-1305.13\n",
        "-1483.54"
       ]
      },
      {
       "output_type": "stream",
       "stream": "stdout",
       "text": [
        "\n",
        "-------------\n",
        "-------------\n",
        "410.484832764\n",
        "-1349.24\n",
        "-1688.9\n",
        "-------------\n",
        "-------------\n",
        "381.314025879\n",
        "-1286.76\n",
        "-1395.69\n",
        "-------------\n",
        "-------------"
       ]
      },
      {
       "output_type": "stream",
       "stream": "stdout",
       "text": [
        "\n",
        "364.807312012\n",
        "-1256.55\n",
        "-1221.41\n",
        "-------------\n",
        "-------------\n",
        "347.225311279\n",
        "-1219.58\n",
        "-1035.72\n",
        "-------------\n",
        "-------------\n",
        "367.961029053\n",
        "-1259.25\n",
        "-1220.46\n",
        "-------------\n",
        "-------------"
       ]
      },
      {
       "output_type": "stream",
       "stream": "stdout",
       "text": [
        "\n",
        "383.324768066\n",
        "-1289.51\n",
        "-1354.71\n",
        "-------------\n",
        "-------------\n",
        "364.365661621\n",
        "-1254.16\n",
        "-1170.06\n",
        "-------------\n",
        "-------------\n",
        "349.776550293\n",
        "-1226.37\n",
        "-1023.53\n",
        "-------------\n",
        "-------------"
       ]
      },
      {
       "output_type": "stream",
       "stream": "stdout",
       "text": [
        "\n",
        "363.788360596\n",
        "-1249.09\n",
        "-1133.46\n",
        "-------------\n",
        "-------------\n",
        "380.69921875\n",
        "-1281.82\n",
        "-1281.36\n",
        "-------------\n",
        "-------------\n",
        "366.208435059\n",
        "-1255.44\n",
        "-1135.14\n",
        "-------------\n",
        "-------------"
       ]
      },
      {
       "output_type": "stream",
       "stream": "stdout",
       "text": [
        "\n",
        "372.768432617\n",
        "-1269.16\n",
        "-1174.62\n",
        "-------------\n",
        "-------------\n",
        "355.057891846\n",
        "-1230.73\n",
        "-1004.15\n",
        "-------------\n",
        "-------------\n",
        "330.738800049\n",
        "-1178.81\n",
        "-769.418\n",
        "-------------\n",
        "-------------"
       ]
      },
      {
       "output_type": "stream",
       "stream": "stdout",
       "text": [
        "\n",
        "354.683746338\n",
        "-1230.21\n",
        "-975.68\n",
        "-------------\n",
        "-------------\n",
        "356.062530518\n",
        "-1230.65\n",
        "-985.417\n",
        "-------------\n",
        "-------------\n",
        "327.706085205\n",
        "-1174.71\n",
        "-711.907\n",
        "-------------\n",
        "-------------"
       ]
      },
      {
       "output_type": "stream",
       "stream": "stdout",
       "text": [
        "\n",
        "340.375701904\n",
        "-1199.57\n",
        "-823.792\n",
        "-------------\n",
        "-------------\n",
        "357.712646484\n",
        "-1231.18\n",
        "-966.199\n",
        "-------------\n",
        "-------------\n",
        "326.622467041\n",
        "-1168.53\n",
        "-666.029\n",
        "-------------\n",
        "-------------"
       ]
      },
      {
       "output_type": "stream",
       "stream": "stdout",
       "text": [
        "\n",
        "356.163604736\n",
        "-1224.76\n",
        "-926.55\n",
        "-------------\n",
        "-------------\n",
        "333.113983154\n",
        "-1181.33\n",
        "-713.84\n",
        "-------------\n",
        "-------------\n",
        "349.106292725\n",
        "-1216.64\n",
        "-844.64\n",
        "-------------\n",
        "-------------"
       ]
      },
      {
       "output_type": "stream",
       "stream": "stdout",
       "text": [
        "\n",
        "355.938201904\n",
        "-1228.99\n",
        "-893.969\n",
        "-------------\n",
        "-------------\n",
        "352.931091309\n",
        "-1222.41\n",
        "-867.199\n",
        "-------------\n",
        "-------------\n",
        "335.41897583\n",
        "-1185.91\n",
        "-671.315\n",
        "-------------\n",
        "-------------"
       ]
      },
      {
       "output_type": "stream",
       "stream": "stdout",
       "text": [
        "\n",
        "350.016784668\n",
        "-1215.89\n",
        "-811.365\n",
        "-------------\n",
        "-------------\n",
        "322.492767334\n",
        "-1154.47\n",
        "-548.182\n",
        "-------------\n",
        "-------------\n",
        "349.142669678\n",
        "-1216.22\n",
        "-782.559\n",
        "-------------\n",
        "-------------"
       ]
      },
      {
       "output_type": "stream",
       "stream": "stdout",
       "text": [
        "\n",
        "369.871917725\n",
        "-1252.42\n",
        "-976.388\n",
        "-------------\n",
        "-------------\n",
        "361.163909912\n",
        "-1237.21\n",
        "-865.687\n",
        "-------------\n",
        "-------------\n",
        "316.970184326\n",
        "-1145.75\n",
        "-460.268\n",
        "-------------\n",
        "-------------"
       ]
      },
      {
       "output_type": "stream",
       "stream": "stdout",
       "text": [
        "\n",
        "326.268280029\n",
        "-1161.7\n",
        "-537.833\n",
        "-------------\n",
        "-------------\n",
        "349.570007324\n",
        "-1215.08\n",
        "-742.21\n",
        "-------------\n",
        "-------------\n",
        "340.653289795\n",
        "-1199.16\n",
        "-653.454\n",
        "-------------\n",
        "-------------"
       ]
      },
      {
       "output_type": "stream",
       "stream": "stdout",
       "text": [
        "\n",
        "312.516571045\n",
        "-1134.12\n",
        "-383.854\n",
        "-------------\n",
        "-------------\n",
        "329.172821045\n",
        "-1171.43\n",
        "-549.815\n",
        "-------------\n",
        "-------------\n",
        "308.586364746\n",
        "-1130.61\n",
        "-353.946\n",
        "-------------\n",
        "-------------"
       ]
      },
      {
       "output_type": "stream",
       "stream": "stdout",
       "text": [
        "\n",
        "346.976989746\n",
        "-1205.4\n",
        "-660.939\n",
        "-------------\n",
        "-------------\n",
        "333.462005615\n",
        "-1180.88\n",
        "-543.361\n",
        "-------------\n",
        "-------------\n",
        "318.571472168\n",
        "-1144.91\n",
        "-423.467\n",
        "-------------\n",
        "21459.1534424\n"
       ]
      }
     ],
     "prompt_number": 12
    },
    {
     "cell_type": "code",
     "collapsed": false,
     "input": [
      "current_result"
     ],
     "language": "python",
     "metadata": {},
     "outputs": [
      {
       "metadata": {},
       "output_type": "pyout",
       "prompt_number": 29,
       "text": [
        "[array(72.07328503963313),\n",
        " <CudaNdarray at 0x122d9fb70>,\n",
        " <CudaNdarray at 0x122d9f870>]"
       ]
      }
     ],
     "prompt_number": 29
    },
    {
     "cell_type": "code",
     "collapsed": false,
     "input": [],
     "language": "python",
     "metadata": {},
     "outputs": []
    }
   ],
   "metadata": {}
  }
 ]
}