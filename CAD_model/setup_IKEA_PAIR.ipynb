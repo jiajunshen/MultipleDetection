{
 "cells": [
  {
   "cell_type": "code",
   "execution_count": 1,
   "metadata": {
    "collapsed": true
   },
   "outputs": [],
   "source": [
    "import numpy as np"
   ]
  },
  {
   "cell_type": "code",
   "execution_count": 2,
   "metadata": {
    "collapsed": true
   },
   "outputs": [],
   "source": [
    "%matplotlib inline"
   ]
  },
  {
   "cell_type": "code",
   "execution_count": 3,
   "metadata": {
    "collapsed": true
   },
   "outputs": [],
   "source": [
    "from os import listdir\n",
    "from os.path import isfile, join\n",
    "plain_file_path = \"/hdd/Documents/Data/IKEA_PAIR/CAD_Plain/\"\n",
    "plain_files = [join(plain_file_path, f) for f in listdir(plain_file_path) if isfile(join(plain_file_path, f))]\n",
    "plain_file_label = [f.split('_')[1] for f in listdir(plain_file_path)]\n",
    "texture_file_path = '/hdd/Documents/Data/IKEA_PAIR/CAD_Texture/'\n",
    "texture_files = [join(texture_file_path, f) for f in listdir(texture_file_path) if isfile(join(texture_file_path, f))]\n",
    "texture_file_label = [f.split('_')[1] for f in listdir(texture_file_path)]"
   ]
  },
  {
   "cell_type": "code",
   "execution_count": 4,
   "metadata": {},
   "outputs": [
    {
     "data": {
      "text/plain": [
       "array(['bed', 'bookcase', 'chair', 'desk', 'sofa', 'table', 'wardrobe'],\n",
       "      dtype='|S8')"
      ]
     },
     "execution_count": 4,
     "metadata": {},
     "output_type": "execute_result"
    }
   ],
   "source": [
    "np.unique(texture_file_label)"
   ]
  },
  {
   "cell_type": "code",
   "execution_count": 5,
   "metadata": {
    "collapsed": true
   },
   "outputs": [],
   "source": [
    "all_classes = np.unique(plain_file_label).tolist()"
   ]
  },
  {
   "cell_type": "code",
   "execution_count": 6,
   "metadata": {},
   "outputs": [
    {
     "name": "stdout",
     "output_type": "stream",
     "text": [
      "('bed', 22)\n",
      "('bookcase', 20)\n",
      "('chair', 37)\n",
      "('desk', 27)\n",
      "('sofa', 21)\n",
      "('table', 68)\n",
      "('wardrobe', 23)\n"
     ]
    }
   ],
   "source": [
    "for item in all_classes:\n",
    "    count = np.sum(np.array(plain_file_label) == item)\n",
    "    print(item, count)"
   ]
  },
  {
   "cell_type": "code",
   "execution_count": 7,
   "metadata": {},
   "outputs": [
    {
     "data": {
      "text/plain": [
       "218"
      ]
     },
     "execution_count": 7,
     "metadata": {},
     "output_type": "execute_result"
    }
   ],
   "source": [
    "len(plain_file_label)"
   ]
  },
  {
   "cell_type": "code",
   "execution_count": 8,
   "metadata": {
    "collapsed": true
   },
   "outputs": [],
   "source": [
    "# Source => Target = (BGColor + Source) =\n",
    "# Target.R = ((1 - Source.A) * BGColor.R) + (Source.A * Source.R)\n",
    "# Target.G = ((1 - Source.A) * BGColor.G) + (Source.A * Source.G)\n",
    "# Target.B = ((1 - Source.A) * BGColor.B) + (Source.A * Source.B)\n",
    "\n",
    "from scipy import misc\n",
    "plain_images = []\n",
    "for f in plain_files:\n",
    "    image = misc.imread(f)\n",
    "    mask = np.array(np.product(image, axis = 2) == 237 * 237 * 255 * 255).reshape(500,500,1)\n",
    "    mask_all = np.repeat(mask, 3, axis = 2)\n",
    "    \n",
    "    image = image / 255.0\n",
    "    bgcolor = np.array([237, 237, 255]).reshape(1, 1, 3) / 255.0\n",
    "    new_image = np.zeros((500, 500, 3))\n",
    "    new_image[:,:,0] = (1 - image[:,:,3]) * image[:,:,0] + image[:,:,3] * image[:,:,0]\n",
    "    new_image[:,:,1] = (1 - image[:,:,3]) * image[:,:,1] + image[:,:,3] * image[:,:,1]\n",
    "    new_image[:,:,2] = (1 - image[:,:,3]) * image[:,:,2] + image[:,:,3] * image[:,:,2]\n",
    "    new_image = bgcolor * mask_all + new_image * (1 - mask_all)\n",
    "    plain_images.append(new_image)\n",
    "plain_images = np.asarray(plain_images)"
   ]
  },
  {
   "cell_type": "code",
   "execution_count": 9,
   "metadata": {},
   "outputs": [
    {
     "data": {
      "text/plain": [
       "(500, 500, 3)"
      ]
     },
     "execution_count": 9,
     "metadata": {},
     "output_type": "execute_result"
    }
   ],
   "source": [
    "np.repeat(mask.reshape(500,500,1),3, axis = 2).shape"
   ]
  },
  {
   "cell_type": "code",
   "execution_count": 10,
   "metadata": {
    "collapsed": true
   },
   "outputs": [],
   "source": [
    "texture_images = []\n",
    "for f in texture_files:\n",
    "    image = misc.imread(f)\n",
    "    mask = np.array(np.product(image, axis = 2) == 237 * 237 * 255 * 255).reshape(500,500,1)\n",
    "    mask_all = np.repeat(mask, 3, axis = 2)\n",
    "    \n",
    "    image = image / 255.0\n",
    "    bgcolor = np.array([237, 237, 255]).reshape(1, 1, 3) / 255.0\n",
    "    new_image = np.zeros((500, 500, 3))\n",
    "    new_image[:,:,0] = (1 - image[:,:,3]) * image[:,:,0] + image[:,:,3] * image[:,:,0]\n",
    "    new_image[:,:,1] = (1 - image[:,:,3]) * image[:,:,1] + image[:,:,3] * image[:,:,1]\n",
    "    new_image[:,:,2] = (1 - image[:,:,3]) * image[:,:,2] + image[:,:,3] * image[:,:,2]\n",
    "    new_image = bgcolor * mask_all + new_image * (1 - mask_all)\n",
    "    texture_images.append(new_image)\n",
    "texture_images = np.asarray(texture_images)"
   ]
  },
  {
   "cell_type": "code",
   "execution_count": 11,
   "metadata": {
    "collapsed": true
   },
   "outputs": [],
   "source": [
    "show_image = np.zeros((1000, 5000, 3), dtype =np.float32)\n",
    "for i in range(10):\n",
    "    show_image[:500, i * 500:i * 500 + 500] = plain_images[i][:,:,:]\n",
    "    show_image[500:1000, i * 500:i * 500 + 500] = texture_images[i][:,:,:]"
   ]
  },
  {
   "cell_type": "code",
   "execution_count": 12,
   "metadata": {
    "scrolled": true
   },
   "outputs": [
    {
     "data": {
      "text/plain": [
       "<matplotlib.image.AxesImage at 0x7fb3c531afd0>"
      ]
     },
     "execution_count": 12,
     "metadata": {},
     "output_type": "execute_result"
    },
    {
     "data": {
      "image/png": "[encoded data removed]",
      "text/plain": [
       "<matplotlib.figure.Figure at 0x7fb3c6075190>"
      ]
     },
     "metadata": {},
     "output_type": "display_data"
    }
   ],
   "source": [
    "import matplotlib.pylab as plt\n",
    "plt.figure(figsize=(15,20),dpi=200)\n",
    "\n",
    "plt.imshow(show_image)"
   ]
  },
  {
   "cell_type": "code",
   "execution_count": 13,
   "metadata": {
    "collapsed": true
   },
   "outputs": [],
   "source": [
    "training_index = []\n",
    "testing_index = []\n",
    "for item in all_classes:\n",
    "    index_list = np.where(np.asarray(plain_file_label) == item)[0].tolist()\n",
    "    amount = len(index_list)\n",
    "    training_index += index_list[:amount // 3 * 2]\n",
    "    testing_index += index_list[amount // 3 * 2:]\n",
    "    "
   ]
  },
  {
   "cell_type": "code",
   "execution_count": 23,
   "metadata": {},
   "outputs": [
    {
     "data": {
      "text/plain": [
       "78"
      ]
     },
     "execution_count": 23,
     "metadata": {},
     "output_type": "execute_result"
    }
   ],
   "source": [
    "len(testing_index)"
   ]
  },
  {
   "cell_type": "code",
   "execution_count": 14,
   "metadata": {},
   "outputs": [
    {
     "data": {
      "text/plain": [
       "218"
      ]
     },
     "execution_count": 14,
     "metadata": {},
     "output_type": "execute_result"
    }
   ],
   "source": [
    "len(training_index) + len(testing_index)"
   ]
  },
  {
   "cell_type": "code",
   "execution_count": 15,
   "metadata": {
    "collapsed": true
   },
   "outputs": [],
   "source": [
    "training_plain_img = plain_images[training_index]\n",
    "testing_plain_img = plain_images[testing_index]"
   ]
  },
  {
   "cell_type": "code",
   "execution_count": 16,
   "metadata": {
    "collapsed": true
   },
   "outputs": [],
   "source": [
    "training_texture_img = texture_images[training_index]\n",
    "testing_texture_img = texture_images[testing_index]"
   ]
  },
  {
   "cell_type": "code",
   "execution_count": 17,
   "metadata": {
    "collapsed": true
   },
   "outputs": [],
   "source": [
    "label_dictionary = {}\n",
    "for i in range(7):\n",
    "    label_dictionary[all_classes[i]] = i"
   ]
  },
  {
   "cell_type": "code",
   "execution_count": 18,
   "metadata": {},
   "outputs": [
    {
     "data": {
      "text/plain": [
       "{'bed': 0,\n",
       " 'bookcase': 1,\n",
       " 'chair': 2,\n",
       " 'desk': 3,\n",
       " 'sofa': 4,\n",
       " 'table': 5,\n",
       " 'wardrobe': 6}"
      ]
     },
     "execution_count": 18,
     "metadata": {},
     "output_type": "execute_result"
    }
   ],
   "source": [
    "label_dictionary"
   ]
  },
  {
   "cell_type": "code",
   "execution_count": 19,
   "metadata": {
    "collapsed": true
   },
   "outputs": [],
   "source": [
    "all_labels = []\n",
    "for item in plain_file_label:\n",
    "    all_labels.append(label_dictionary[item])"
   ]
  },
  {
   "cell_type": "code",
   "execution_count": 20,
   "metadata": {},
   "outputs": [
    {
     "data": {
      "text/plain": [
       "['chair',\n",
       " 'bed',\n",
       " 'chair',\n",
       " 'table',\n",
       " 'bed',\n",
       " 'chair',\n",
       " 'sofa',\n",
       " 'bookcase',\n",
       " 'bed',\n",
       " 'sofa',\n",
       " 'bookcase',\n",
       " 'desk',\n",
       " 'bed',\n",
       " 'table',\n",
       " 'chair',\n",
       " 'wardrobe',\n",
       " 'wardrobe',\n",
       " 'table',\n",
       " 'table',\n",
       " 'sofa',\n",
       " 'table',\n",
       " 'chair',\n",
       " 'table',\n",
       " 'table',\n",
       " 'chair',\n",
       " 'chair',\n",
       " 'bookcase',\n",
       " 'chair',\n",
       " 'table',\n",
       " 'desk',\n",
       " 'bookcase',\n",
       " 'table',\n",
       " 'table',\n",
       " 'bookcase',\n",
       " 'chair',\n",
       " 'bookcase',\n",
       " 'sofa',\n",
       " 'wardrobe',\n",
       " 'chair',\n",
       " 'table',\n",
       " 'table',\n",
       " 'chair',\n",
       " 'table',\n",
       " 'desk',\n",
       " 'desk',\n",
       " 'table',\n",
       " 'wardrobe',\n",
       " 'chair',\n",
       " 'chair',\n",
       " 'table',\n",
       " 'desk',\n",
       " 'wardrobe',\n",
       " 'table',\n",
       " 'table',\n",
       " 'sofa',\n",
       " 'table',\n",
       " 'chair',\n",
       " 'wardrobe',\n",
       " 'bed',\n",
       " 'chair',\n",
       " 'desk',\n",
       " 'wardrobe',\n",
       " 'table',\n",
       " 'table',\n",
       " 'chair',\n",
       " 'wardrobe',\n",
       " 'table',\n",
       " 'bed',\n",
       " 'table',\n",
       " 'table',\n",
       " 'table',\n",
       " 'bookcase',\n",
       " 'wardrobe',\n",
       " 'chair',\n",
       " 'bookcase',\n",
       " 'desk',\n",
       " 'chair',\n",
       " 'table',\n",
       " 'wardrobe',\n",
       " 'chair',\n",
       " 'chair',\n",
       " 'bookcase',\n",
       " 'desk',\n",
       " 'chair',\n",
       " 'table',\n",
       " 'bookcase',\n",
       " 'table',\n",
       " 'table',\n",
       " 'bookcase',\n",
       " 'desk',\n",
       " 'chair',\n",
       " 'wardrobe',\n",
       " 'table',\n",
       " 'wardrobe',\n",
       " 'table',\n",
       " 'chair',\n",
       " 'sofa',\n",
       " 'bookcase',\n",
       " 'desk',\n",
       " 'table',\n",
       " 'table',\n",
       " 'table',\n",
       " 'chair',\n",
       " 'chair',\n",
       " 'table',\n",
       " 'desk',\n",
       " 'table',\n",
       " 'chair',\n",
       " 'sofa',\n",
       " 'table',\n",
       " 'table',\n",
       " 'desk',\n",
       " 'table',\n",
       " 'bookcase',\n",
       " 'bed',\n",
       " 'table',\n",
       " 'sofa',\n",
       " 'table',\n",
       " 'bed',\n",
       " 'table',\n",
       " 'sofa',\n",
       " 'table',\n",
       " 'bed',\n",
       " 'desk',\n",
       " 'desk',\n",
       " 'table',\n",
       " 'bed',\n",
       " 'bed',\n",
       " 'bed',\n",
       " 'desk',\n",
       " 'wardrobe',\n",
       " 'bed',\n",
       " 'bed',\n",
       " 'bed',\n",
       " 'sofa',\n",
       " 'sofa',\n",
       " 'sofa',\n",
       " 'table',\n",
       " 'sofa',\n",
       " 'desk',\n",
       " 'table',\n",
       " 'sofa',\n",
       " 'table',\n",
       " 'chair',\n",
       " 'desk',\n",
       " 'sofa',\n",
       " 'desk',\n",
       " 'table',\n",
       " 'bookcase',\n",
       " 'table',\n",
       " 'bookcase',\n",
       " 'table',\n",
       " 'table',\n",
       " 'table',\n",
       " 'chair',\n",
       " 'bed',\n",
       " 'table',\n",
       " 'sofa',\n",
       " 'wardrobe',\n",
       " 'chair',\n",
       " 'table',\n",
       " 'chair',\n",
       " 'table',\n",
       " 'chair',\n",
       " 'wardrobe',\n",
       " 'table',\n",
       " 'bookcase',\n",
       " 'chair',\n",
       " 'table',\n",
       " 'table',\n",
       " 'table',\n",
       " 'bookcase',\n",
       " 'desk',\n",
       " 'desk',\n",
       " 'bed',\n",
       " 'sofa',\n",
       " 'wardrobe',\n",
       " 'chair',\n",
       " 'desk',\n",
       " 'wardrobe',\n",
       " 'bed',\n",
       " 'bed',\n",
       " 'bookcase',\n",
       " 'bed',\n",
       " 'desk',\n",
       " 'desk',\n",
       " 'desk',\n",
       " 'table',\n",
       " 'bookcase',\n",
       " 'sofa',\n",
       " 'sofa',\n",
       " 'table',\n",
       " 'bed',\n",
       " 'wardrobe',\n",
       " 'table',\n",
       " 'chair',\n",
       " 'wardrobe',\n",
       " 'table',\n",
       " 'desk',\n",
       " 'table',\n",
       " 'sofa',\n",
       " 'table',\n",
       " 'chair',\n",
       " 'bed',\n",
       " 'sofa',\n",
       " 'table',\n",
       " 'wardrobe',\n",
       " 'table',\n",
       " 'desk',\n",
       " 'desk',\n",
       " 'table',\n",
       " 'wardrobe',\n",
       " 'bookcase',\n",
       " 'table',\n",
       " 'wardrobe',\n",
       " 'chair',\n",
       " 'chair',\n",
       " 'wardrobe']"
      ]
     },
     "execution_count": 20,
     "metadata": {},
     "output_type": "execute_result"
    }
   ],
   "source": [
    "plain_file_label"
   ]
  },
  {
   "cell_type": "code",
   "execution_count": 21,
   "metadata": {},
   "outputs": [
    {
     "data": {
      "text/plain": [
       "array([0, 0, 0, 0, 0, 0, 0, 0, 0, 0, 0, 0, 0, 0, 1, 1, 1, 1, 1, 1, 1, 1, 1,\n",
       "       1, 1, 1, 2, 2, 2, 2, 2, 2, 2, 2, 2, 2, 2, 2, 2, 2, 2, 2, 2, 2, 2, 2,\n",
       "       2, 2, 2, 2, 3, 3, 3, 3, 3, 3, 3, 3, 3, 3, 3, 3, 3, 3, 3, 3, 3, 3, 4,\n",
       "       4, 4, 4, 4, 4, 4, 4, 4, 4, 4, 4, 4, 4, 5, 5, 5, 5, 5, 5, 5, 5, 5, 5,\n",
       "       5, 5, 5, 5, 5, 5, 5, 5, 5, 5, 5, 5, 5, 5, 5, 5, 5, 5, 5, 5, 5, 5, 5,\n",
       "       5, 5, 5, 5, 5, 5, 5, 5, 5, 5, 5, 6, 6, 6, 6, 6, 6, 6, 6, 6, 6, 6, 6,\n",
       "       6, 6])"
      ]
     },
     "execution_count": 21,
     "metadata": {},
     "output_type": "execute_result"
    }
   ],
   "source": [
    "np.asarray(all_labels)[training_index]"
   ]
  },
  {
   "cell_type": "code",
   "execution_count": 22,
   "metadata": {
    "collapsed": true
   },
   "outputs": [],
   "source": [
    "np.save(\"/hdd/Documents/Data/IKEA_PAIR/X_plain_train.npy\", training_plain_img)\n",
    "np.save(\"/hdd/Documents/Data/IKEA_PAIR/X_texture_train.npy\", training_texture_img)\n",
    "np.save(\"/hdd/Documents/Data/IKEA_PAIR/X_plain_test.npy\", testing_plain_img)\n",
    "np.save(\"/hdd/Documents/Data/IKEA_PAIR/X_texture_test.npy\", testing_texture_img)\n",
    "np.save(\"/hdd/Documents/Data/IKEA_PAIR/Y_train.npy\", np.asarray(all_labels)[training_index])\n",
    "np.save(\"/hdd/Documents/Data/IKEA_PAIR/Y_test.npy\", np.asarray(all_labels)[testing_index])"
   ]
  },
  {
   "cell_type": "code",
   "execution_count": 24,
   "metadata": {
    "scrolled": true
   },
   "outputs": [
    {
     "data": {
      "text/plain": [
       "array([[[ 0.92941177,  0.92941177,  1.        ],\n",
       "        [ 0.92941177,  0.92941177,  1.        ],\n",
       "        [ 0.92941177,  0.92941177,  1.        ],\n",
       "        ..., \n",
       "        [ 0.92941177,  0.92941177,  1.        ],\n",
       "        [ 0.92941177,  0.92941177,  1.        ],\n",
       "        [ 0.92941177,  0.92941177,  1.        ]],\n",
       "\n",
       "       [[ 0.92941177,  0.92941177,  1.        ],\n",
       "        [ 0.92941177,  0.92941177,  1.        ],\n",
       "        [ 0.92941177,  0.92941177,  1.        ],\n",
       "        ..., \n",
       "        [ 0.92941177,  0.92941177,  1.        ],\n",
       "        [ 0.92941177,  0.92941177,  1.        ],\n",
       "        [ 0.92941177,  0.92941177,  1.        ]],\n",
       "\n",
       "       [[ 0.92941177,  0.92941177,  1.        ],\n",
       "        [ 0.92941177,  0.92941177,  1.        ],\n",
       "        [ 0.92941177,  0.92941177,  1.        ],\n",
       "        ..., \n",
       "        [ 0.92941177,  0.92941177,  1.        ],\n",
       "        [ 0.92941177,  0.92941177,  1.        ],\n",
       "        [ 0.92941177,  0.92941177,  1.        ]],\n",
       "\n",
       "       ..., \n",
       "       [[ 0.92941177,  0.92941177,  1.        ],\n",
       "        [ 0.92941177,  0.92941177,  1.        ],\n",
       "        [ 0.92941177,  0.92941177,  1.        ],\n",
       "        ..., \n",
       "        [ 0.92941177,  0.92941177,  1.        ],\n",
       "        [ 0.92941177,  0.92941177,  1.        ],\n",
       "        [ 0.92941177,  0.92941177,  1.        ]],\n",
       "\n",
       "       [[ 0.92941177,  0.92941177,  1.        ],\n",
       "        [ 0.92941177,  0.92941177,  1.        ],\n",
       "        [ 0.92941177,  0.92941177,  1.        ],\n",
       "        ..., \n",
       "        [ 0.92941177,  0.92941177,  1.        ],\n",
       "        [ 0.92941177,  0.92941177,  1.        ],\n",
       "        [ 0.92941177,  0.92941177,  1.        ]],\n",
       "\n",
       "       [[ 0.92941177,  0.92941177,  1.        ],\n",
       "        [ 0.92941177,  0.92941177,  1.        ],\n",
       "        [ 0.92941177,  0.92941177,  1.        ],\n",
       "        ..., \n",
       "        [ 0.92941177,  0.92941177,  1.        ],\n",
       "        [ 0.92941177,  0.92941177,  1.        ],\n",
       "        [ 0.92941177,  0.92941177,  1.        ]]], dtype=float32)"
      ]
     },
     "execution_count": 24,
     "metadata": {},
     "output_type": "execute_result"
    }
   ],
   "source": [
    "show_image"
   ]
  },
  {
   "cell_type": "code",
   "execution_count": 25,
   "metadata": {},
   "outputs": [
    {
     "data": {
      "text/plain": [
       "<matplotlib.image.AxesImage at 0x7f04600f4690>"
      ]
     },
     "execution_count": 25,
     "metadata": {},
     "output_type": "execute_result"
    },
    {
     "data": {
      "image/png": "[encoded data removed]",
      "text/plain": [
       "<matplotlib.figure.Figure at 0x7f0460112850>"
      ]
     },
     "metadata": {},
     "output_type": "display_data"
    }
   ],
   "source": [
    "plt.figure(figsize=(15,20),dpi=200)\n",
    "\n",
    "plt.imshow(misc.imresize(show_image,size = (200,1000,3)) / 255.0)"
   ]
  },
  {
   "cell_type": "code",
   "execution_count": 26,
   "metadata": {},
   "outputs": [
    {
     "data": {
      "text/plain": [
       "(1000, 5000, 3)"
      ]
     },
     "execution_count": 26,
     "metadata": {},
     "output_type": "execute_result"
    }
   ],
   "source": [
    "show_image.shape"
   ]
  },
  {
   "cell_type": "code",
   "execution_count": 27,
   "metadata": {},
   "outputs": [
    {
     "data": {
      "text/plain": [
       "array([[[[ 0.92941176,  0.92941176,  1.        ],\n",
       "         [ 0.92941176,  0.92941176,  1.        ],\n",
       "         [ 0.92941176,  0.92941176,  1.        ],\n",
       "         ..., \n",
       "         [ 0.92941176,  0.92941176,  1.        ],\n",
       "         [ 0.92941176,  0.92941176,  1.        ],\n",
       "         [ 0.92941176,  0.92941176,  1.        ]],\n",
       "\n",
       "        [[ 0.92941176,  0.92941176,  1.        ],\n",
       "         [ 0.92941176,  0.92941176,  1.        ],\n",
       "         [ 0.92941176,  0.92941176,  1.        ],\n",
       "         ..., \n",
       "         [ 0.92941176,  0.92941176,  1.        ],\n",
       "         [ 0.92941176,  0.92941176,  1.        ],\n",
       "         [ 0.92941176,  0.92941176,  1.        ]],\n",
       "\n",
       "        [[ 0.92941176,  0.92941176,  1.        ],\n",
       "         [ 0.92941176,  0.92941176,  1.        ],\n",
       "         [ 0.92941176,  0.92941176,  1.        ],\n",
       "         ..., \n",
       "         [ 0.92941176,  0.92941176,  1.        ],\n",
       "         [ 0.92941176,  0.92941176,  1.        ],\n",
       "         [ 0.92941176,  0.92941176,  1.        ]],\n",
       "\n",
       "        ..., \n",
       "        [[ 0.92941176,  0.92941176,  1.        ],\n",
       "         [ 0.92941176,  0.92941176,  1.        ],\n",
       "         [ 0.92941176,  0.92941176,  1.        ],\n",
       "         ..., \n",
       "         [ 0.92941176,  0.92941176,  1.        ],\n",
       "         [ 0.92941176,  0.92941176,  1.        ],\n",
       "         [ 0.92941176,  0.92941176,  1.        ]],\n",
       "\n",
       "        [[ 0.92941176,  0.92941176,  1.        ],\n",
       "         [ 0.92941176,  0.92941176,  1.        ],\n",
       "         [ 0.92941176,  0.92941176,  1.        ],\n",
       "         ..., \n",
       "         [ 0.92941176,  0.92941176,  1.        ],\n",
       "         [ 0.92941176,  0.92941176,  1.        ],\n",
       "         [ 0.92941176,  0.92941176,  1.        ]],\n",
       "\n",
       "        [[ 0.92941176,  0.92941176,  1.        ],\n",
       "         [ 0.92941176,  0.92941176,  1.        ],\n",
       "         [ 0.92941176,  0.92941176,  1.        ],\n",
       "         ..., \n",
       "         [ 0.92941176,  0.92941176,  1.        ],\n",
       "         [ 0.92941176,  0.92941176,  1.        ],\n",
       "         [ 0.92941176,  0.92941176,  1.        ]]],\n",
       "\n",
       "\n",
       "       [[[ 0.92941176,  0.92941176,  1.        ],\n",
       "         [ 0.92941176,  0.92941176,  1.        ],\n",
       "         [ 0.92941176,  0.92941176,  1.        ],\n",
       "         ..., \n",
       "         [ 0.92941176,  0.92941176,  1.        ],\n",
       "         [ 0.92941176,  0.92941176,  1.        ],\n",
       "         [ 0.92941176,  0.92941176,  1.        ]],\n",
       "\n",
       "        [[ 0.92941176,  0.92941176,  1.        ],\n",
       "         [ 0.92941176,  0.92941176,  1.        ],\n",
       "         [ 0.92941176,  0.92941176,  1.        ],\n",
       "         ..., \n",
       "         [ 0.92941176,  0.92941176,  1.        ],\n",
       "         [ 0.92941176,  0.92941176,  1.        ],\n",
       "         [ 0.92941176,  0.92941176,  1.        ]],\n",
       "\n",
       "        [[ 0.92941176,  0.92941176,  1.        ],\n",
       "         [ 0.92941176,  0.92941176,  1.        ],\n",
       "         [ 0.92941176,  0.92941176,  1.        ],\n",
       "         ..., \n",
       "         [ 0.92941176,  0.92941176,  1.        ],\n",
       "         [ 0.92941176,  0.92941176,  1.        ],\n",
       "         [ 0.92941176,  0.92941176,  1.        ]],\n",
       "\n",
       "        ..., \n",
       "        [[ 0.92941176,  0.92941176,  1.        ],\n",
       "         [ 0.92941176,  0.92941176,  1.        ],\n",
       "         [ 0.92941176,  0.92941176,  1.        ],\n",
       "         ..., \n",
       "         [ 0.92941176,  0.92941176,  1.        ],\n",
       "         [ 0.92941176,  0.92941176,  1.        ],\n",
       "         [ 0.92941176,  0.92941176,  1.        ]],\n",
       "\n",
       "        [[ 0.92941176,  0.92941176,  1.        ],\n",
       "         [ 0.92941176,  0.92941176,  1.        ],\n",
       "         [ 0.92941176,  0.92941176,  1.        ],\n",
       "         ..., \n",
       "         [ 0.92941176,  0.92941176,  1.        ],\n",
       "         [ 0.92941176,  0.92941176,  1.        ],\n",
       "         [ 0.92941176,  0.92941176,  1.        ]],\n",
       "\n",
       "        [[ 0.92941176,  0.92941176,  1.        ],\n",
       "         [ 0.92941176,  0.92941176,  1.        ],\n",
       "         [ 0.92941176,  0.92941176,  1.        ],\n",
       "         ..., \n",
       "         [ 0.92941176,  0.92941176,  1.        ],\n",
       "         [ 0.92941176,  0.92941176,  1.        ],\n",
       "         [ 0.92941176,  0.92941176,  1.        ]]],\n",
       "\n",
       "\n",
       "       [[[ 0.92941176,  0.92941176,  1.        ],\n",
       "         [ 0.92941176,  0.92941176,  1.        ],\n",
       "         [ 0.92941176,  0.92941176,  1.        ],\n",
       "         ..., \n",
       "         [ 0.92941176,  0.92941176,  1.        ],\n",
       "         [ 0.92941176,  0.92941176,  1.        ],\n",
       "         [ 0.92941176,  0.92941176,  1.        ]],\n",
       "\n",
       "        [[ 0.92941176,  0.92941176,  1.        ],\n",
       "         [ 0.92941176,  0.92941176,  1.        ],\n",
       "         [ 0.92941176,  0.92941176,  1.        ],\n",
       "         ..., \n",
       "         [ 0.92941176,  0.92941176,  1.        ],\n",
       "         [ 0.92941176,  0.92941176,  1.        ],\n",
       "         [ 0.92941176,  0.92941176,  1.        ]],\n",
       "\n",
       "        [[ 0.92941176,  0.92941176,  1.        ],\n",
       "         [ 0.92941176,  0.92941176,  1.        ],\n",
       "         [ 0.92941176,  0.92941176,  1.        ],\n",
       "         ..., \n",
       "         [ 0.92941176,  0.92941176,  1.        ],\n",
       "         [ 0.92941176,  0.92941176,  1.        ],\n",
       "         [ 0.92941176,  0.92941176,  1.        ]],\n",
       "\n",
       "        ..., \n",
       "        [[ 0.92941176,  0.92941176,  1.        ],\n",
       "         [ 0.92941176,  0.92941176,  1.        ],\n",
       "         [ 0.92941176,  0.92941176,  1.        ],\n",
       "         ..., \n",
       "         [ 0.92941176,  0.92941176,  1.        ],\n",
       "         [ 0.92941176,  0.92941176,  1.        ],\n",
       "         [ 0.92941176,  0.92941176,  1.        ]],\n",
       "\n",
       "        [[ 0.92941176,  0.92941176,  1.        ],\n",
       "         [ 0.92941176,  0.92941176,  1.        ],\n",
       "         [ 0.92941176,  0.92941176,  1.        ],\n",
       "         ..., \n",
       "         [ 0.92941176,  0.92941176,  1.        ],\n",
       "         [ 0.92941176,  0.92941176,  1.        ],\n",
       "         [ 0.92941176,  0.92941176,  1.        ]],\n",
       "\n",
       "        [[ 0.92941176,  0.92941176,  1.        ],\n",
       "         [ 0.92941176,  0.92941176,  1.        ],\n",
       "         [ 0.92941176,  0.92941176,  1.        ],\n",
       "         ..., \n",
       "         [ 0.92941176,  0.92941176,  1.        ],\n",
       "         [ 0.92941176,  0.92941176,  1.        ],\n",
       "         [ 0.92941176,  0.92941176,  1.        ]]],\n",
       "\n",
       "\n",
       "       ..., \n",
       "       [[[ 0.92941176,  0.92941176,  1.        ],\n",
       "         [ 0.92941176,  0.92941176,  1.        ],\n",
       "         [ 0.92941176,  0.92941176,  1.        ],\n",
       "         ..., \n",
       "         [ 0.92941176,  0.92941176,  1.        ],\n",
       "         [ 0.92941176,  0.92941176,  1.        ],\n",
       "         [ 0.92941176,  0.92941176,  1.        ]],\n",
       "\n",
       "        [[ 0.92941176,  0.92941176,  1.        ],\n",
       "         [ 0.92941176,  0.92941176,  1.        ],\n",
       "         [ 0.92941176,  0.92941176,  1.        ],\n",
       "         ..., \n",
       "         [ 0.92941176,  0.92941176,  1.        ],\n",
       "         [ 0.92941176,  0.92941176,  1.        ],\n",
       "         [ 0.92941176,  0.92941176,  1.        ]],\n",
       "\n",
       "        [[ 0.92941176,  0.92941176,  1.        ],\n",
       "         [ 0.92941176,  0.92941176,  1.        ],\n",
       "         [ 0.92941176,  0.92941176,  1.        ],\n",
       "         ..., \n",
       "         [ 0.92941176,  0.92941176,  1.        ],\n",
       "         [ 0.92941176,  0.92941176,  1.        ],\n",
       "         [ 0.92941176,  0.92941176,  1.        ]],\n",
       "\n",
       "        ..., \n",
       "        [[ 0.92941176,  0.92941176,  1.        ],\n",
       "         [ 0.92941176,  0.92941176,  1.        ],\n",
       "         [ 0.92941176,  0.92941176,  1.        ],\n",
       "         ..., \n",
       "         [ 0.92941176,  0.92941176,  1.        ],\n",
       "         [ 0.92941176,  0.92941176,  1.        ],\n",
       "         [ 0.92941176,  0.92941176,  1.        ]],\n",
       "\n",
       "        [[ 0.92941176,  0.92941176,  1.        ],\n",
       "         [ 0.92941176,  0.92941176,  1.        ],\n",
       "         [ 0.92941176,  0.92941176,  1.        ],\n",
       "         ..., \n",
       "         [ 0.92941176,  0.92941176,  1.        ],\n",
       "         [ 0.92941176,  0.92941176,  1.        ],\n",
       "         [ 0.92941176,  0.92941176,  1.        ]],\n",
       "\n",
       "        [[ 0.92941176,  0.92941176,  1.        ],\n",
       "         [ 0.92941176,  0.92941176,  1.        ],\n",
       "         [ 0.92941176,  0.92941176,  1.        ],\n",
       "         ..., \n",
       "         [ 0.92941176,  0.92941176,  1.        ],\n",
       "         [ 0.92941176,  0.92941176,  1.        ],\n",
       "         [ 0.92941176,  0.92941176,  1.        ]]],\n",
       "\n",
       "\n",
       "       [[[ 0.92941176,  0.92941176,  1.        ],\n",
       "         [ 0.92941176,  0.92941176,  1.        ],\n",
       "         [ 0.92941176,  0.92941176,  1.        ],\n",
       "         ..., \n",
       "         [ 0.92941176,  0.92941176,  1.        ],\n",
       "         [ 0.92941176,  0.92941176,  1.        ],\n",
       "         [ 0.92941176,  0.92941176,  1.        ]],\n",
       "\n",
       "        [[ 0.92941176,  0.92941176,  1.        ],\n",
       "         [ 0.92941176,  0.92941176,  1.        ],\n",
       "         [ 0.92941176,  0.92941176,  1.        ],\n",
       "         ..., \n",
       "         [ 0.92941176,  0.92941176,  1.        ],\n",
       "         [ 0.92941176,  0.92941176,  1.        ],\n",
       "         [ 0.92941176,  0.92941176,  1.        ]],\n",
       "\n",
       "        [[ 0.92941176,  0.92941176,  1.        ],\n",
       "         [ 0.92941176,  0.92941176,  1.        ],\n",
       "         [ 0.92941176,  0.92941176,  1.        ],\n",
       "         ..., \n",
       "         [ 0.92941176,  0.92941176,  1.        ],\n",
       "         [ 0.92941176,  0.92941176,  1.        ],\n",
       "         [ 0.92941176,  0.92941176,  1.        ]],\n",
       "\n",
       "        ..., \n",
       "        [[ 0.92941176,  0.92941176,  1.        ],\n",
       "         [ 0.92941176,  0.92941176,  1.        ],\n",
       "         [ 0.92941176,  0.92941176,  1.        ],\n",
       "         ..., \n",
       "         [ 0.92941176,  0.92941176,  1.        ],\n",
       "         [ 0.92941176,  0.92941176,  1.        ],\n",
       "         [ 0.92941176,  0.92941176,  1.        ]],\n",
       "\n",
       "        [[ 0.92941176,  0.92941176,  1.        ],\n",
       "         [ 0.92941176,  0.92941176,  1.        ],\n",
       "         [ 0.92941176,  0.92941176,  1.        ],\n",
       "         ..., \n",
       "         [ 0.92941176,  0.92941176,  1.        ],\n",
       "         [ 0.92941176,  0.92941176,  1.        ],\n",
       "         [ 0.92941176,  0.92941176,  1.        ]],\n",
       "\n",
       "        [[ 0.92941176,  0.92941176,  1.        ],\n",
       "         [ 0.92941176,  0.92941176,  1.        ],\n",
       "         [ 0.92941176,  0.92941176,  1.        ],\n",
       "         ..., \n",
       "         [ 0.92941176,  0.92941176,  1.        ],\n",
       "         [ 0.92941176,  0.92941176,  1.        ],\n",
       "         [ 0.92941176,  0.92941176,  1.        ]]],\n",
       "\n",
       "\n",
       "       [[[ 0.92941176,  0.92941176,  1.        ],\n",
       "         [ 0.92941176,  0.92941176,  1.        ],\n",
       "         [ 0.92941176,  0.92941176,  1.        ],\n",
       "         ..., \n",
       "         [ 0.92941176,  0.92941176,  1.        ],\n",
       "         [ 0.92941176,  0.92941176,  1.        ],\n",
       "         [ 0.92941176,  0.92941176,  1.        ]],\n",
       "\n",
       "        [[ 0.92941176,  0.92941176,  1.        ],\n",
       "         [ 0.92941176,  0.92941176,  1.        ],\n",
       "         [ 0.92941176,  0.92941176,  1.        ],\n",
       "         ..., \n",
       "         [ 0.92941176,  0.92941176,  1.        ],\n",
       "         [ 0.92941176,  0.92941176,  1.        ],\n",
       "         [ 0.92941176,  0.92941176,  1.        ]],\n",
       "\n",
       "        [[ 0.92941176,  0.92941176,  1.        ],\n",
       "         [ 0.92941176,  0.92941176,  1.        ],\n",
       "         [ 0.92941176,  0.92941176,  1.        ],\n",
       "         ..., \n",
       "         [ 0.92941176,  0.92941176,  1.        ],\n",
       "         [ 0.92941176,  0.92941176,  1.        ],\n",
       "         [ 0.92941176,  0.92941176,  1.        ]],\n",
       "\n",
       "        ..., \n",
       "        [[ 0.92941176,  0.92941176,  1.        ],\n",
       "         [ 0.92941176,  0.92941176,  1.        ],\n",
       "         [ 0.92941176,  0.92941176,  1.        ],\n",
       "         ..., \n",
       "         [ 0.92941176,  0.92941176,  1.        ],\n",
       "         [ 0.92941176,  0.92941176,  1.        ],\n",
       "         [ 0.92941176,  0.92941176,  1.        ]],\n",
       "\n",
       "        [[ 0.92941176,  0.92941176,  1.        ],\n",
       "         [ 0.92941176,  0.92941176,  1.        ],\n",
       "         [ 0.92941176,  0.92941176,  1.        ],\n",
       "         ..., \n",
       "         [ 0.92941176,  0.92941176,  1.        ],\n",
       "         [ 0.92941176,  0.92941176,  1.        ],\n",
       "         [ 0.92941176,  0.92941176,  1.        ]],\n",
       "\n",
       "        [[ 0.92941176,  0.92941176,  1.        ],\n",
       "         [ 0.92941176,  0.92941176,  1.        ],\n",
       "         [ 0.92941176,  0.92941176,  1.        ],\n",
       "         ..., \n",
       "         [ 0.92941176,  0.92941176,  1.        ],\n",
       "         [ 0.92941176,  0.92941176,  1.        ],\n",
       "         [ 0.92941176,  0.92941176,  1.        ]]]])"
      ]
     },
     "execution_count": 27,
     "metadata": {},
     "output_type": "execute_result"
    }
   ],
   "source": [
    "training_plain_img"
   ]
  },
  {
   "cell_type": "code",
   "execution_count": null,
   "metadata": {
    "collapsed": true
   },
   "outputs": [],
   "source": []
  }
 ],
 "metadata": {
  "kernelspec": {
   "display_name": "Python 2",
   "language": "python",
   "name": "python2"
  },
  "language_info": {
   "codemirror_mode": {
    "name": "ipython",
    "version": 2
   },
   "file_extension": ".py",
   "mimetype": "text/x-python",
   "name": "python",
   "nbconvert_exporter": "python",
   "pygments_lexer": "ipython2",
   "version": "2.7.13"
  }
 },
 "nbformat": 4,
 "nbformat_minor": 2
}
